{
  "nbformat": 4,
  "nbformat_minor": 0,
  "metadata": {
    "colab": {
      "name": "Workshop_Keras_PyTorch.ipynb",
      "provenance": [],
      "collapsed_sections": []
    },
    "kernelspec": {
      "name": "python3",
      "display_name": "Python 3"
    },
    "language_info": {
      "name": "python"
    },
    "accelerator": "GPU"
  },
  "cells": [
    {
      "cell_type": "markdown",
      "metadata": {
        "id": "NYa6apKzrcah"
      },
      "source": [
        "#Design a Deep Neural Network using Keras and pyTorch"
      ]
    },
    {
      "cell_type": "code",
      "metadata": {
        "colab": {
          "base_uri": "https://localhost:8080/"
        },
        "id": "zZ9Q8r5yimog",
        "outputId": "005661fa-d50d-4f39-f707-0f804af84064"
      },
      "source": [
        "import keras\n",
        "print(keras.__version__)\n",
        "\n",
        "import torch\n",
        "print(torch.__version__)"
      ],
      "execution_count": 2,
      "outputs": [
        {
          "output_type": "stream",
          "text": [
            "2.4.3\n",
            "1.8.1+cu101\n"
          ],
          "name": "stdout"
        }
      ]
    },
    {
      "cell_type": "markdown",
      "metadata": {
        "id": "paU2ykwKrkHb"
      },
      "source": [
        "##Tensors and Attributes"
      ]
    },
    {
      "cell_type": "code",
      "metadata": {
        "colab": {
          "base_uri": "https://localhost:8080/"
        },
        "id": "Febn_UKvmDyK",
        "outputId": "6269f594-bf6f-42c2-f3a1-f2064fce7d84"
      },
      "source": [
        "data = torch.tensor([[1,2,3],[4,5,6]])\n",
        "print(data.shape)\n",
        "print(data.dtype) #dimesnion along each axis\n",
        "print(data.ndim) #number of axes\n",
        "print(data.device)"
      ],
      "execution_count": 3,
      "outputs": [
        {
          "output_type": "stream",
          "text": [
            "torch.Size([2, 3])\n",
            "torch.int64\n",
            "2\n",
            "cpu\n"
          ],
          "name": "stdout"
        }
      ]
    },
    {
      "cell_type": "code",
      "metadata": {
        "colab": {
          "base_uri": "https://localhost:8080/"
        },
        "id": "vYOWIcZPnjb8",
        "outputId": "e513c4c4-fbcd-47f2-d2a6-1de353254b49"
      },
      "source": [
        "import numpy as np\n",
        "data_np = np.array([[1,2,3],[4,5,6]])\n",
        "print(data_np.shape)\n",
        "print(data_np.dtype)\n",
        "print(data_np.ndim)"
      ],
      "execution_count": 4,
      "outputs": [
        {
          "output_type": "stream",
          "text": [
            "(2, 3)\n",
            "int64\n",
            "2\n"
          ],
          "name": "stdout"
        }
      ]
    },
    {
      "cell_type": "markdown",
      "metadata": {
        "id": "h2qkRRBHrqzq"
      },
      "source": [
        "##Special Tensors"
      ]
    },
    {
      "cell_type": "code",
      "metadata": {
        "colab": {
          "base_uri": "https://localhost:8080/"
        },
        "id": "1KspZp41oJz9",
        "outputId": "1598660c-6380-4dc6-9799-51420495bc4a"
      },
      "source": [
        "np_zeros = np.zeros((3,4),dtype='uint8')\n",
        "np_ones = np.ones((3,4))\n",
        "np_rand = np.random.rand(3,4) # 3,4 indicates the shape of the resulting array\n",
        "np_arr = np.array([[1,2],[3,4],[5,6]])\n",
        "print(np_zeros.shape)\n",
        "print(np_zeros.dtype)\n",
        "print(np_ones.shape)\n",
        "print(np_arr.shape)\n",
        "print(np_arr.ndim)\n",
        "print(np_arr.dtype)\n"
      ],
      "execution_count": 58,
      "outputs": [
        {
          "output_type": "stream",
          "text": [
            "(3, 4)\n",
            "uint8\n",
            "(3, 4)\n",
            "(3, 2)\n",
            "2\n",
            "int64\n"
          ],
          "name": "stdout"
        }
      ]
    },
    {
      "cell_type": "code",
      "metadata": {
        "colab": {
          "base_uri": "https://localhost:8080/"
        },
        "id": "zzxHa_Fzpwe7",
        "outputId": "6d3c14c1-5a19-4493-b58a-6808f884d50c"
      },
      "source": [
        "shape = (2,3)\n",
        "rand_tensor = torch.rand(shape)\n",
        "ones_tensor = torch.ones(shape)\n",
        "zeros_tensor = torch.zeros(shape)\n",
        "\n",
        "print(rand_tensor.shape)\n",
        "print(rand_tensor.ndim)\n",
        "print(rand_tensor.dtype)\n"
      ],
      "execution_count": 8,
      "outputs": [
        {
          "output_type": "stream",
          "text": [
            "torch.Size([2, 3])\n",
            "2\n",
            "torch.float32\n"
          ],
          "name": "stdout"
        }
      ]
    },
    {
      "cell_type": "markdown",
      "metadata": {
        "id": "ui24NhWDrupX"
      },
      "source": [
        "##Indexing and Slicing"
      ]
    },
    {
      "cell_type": "code",
      "metadata": {
        "colab": {
          "base_uri": "https://localhost:8080/"
        },
        "id": "uutd0wxdsRYA",
        "outputId": "ed4683c8-f977-41ae-a841-c28973b6784e"
      },
      "source": [
        "tensor = torch.ones((5, 4))\n",
        "tensor[:,1] = 0\n",
        "print(tensor)"
      ],
      "execution_count": 9,
      "outputs": [
        {
          "output_type": "stream",
          "text": [
            "tensor([[1., 0., 1., 1.],\n",
            "        [1., 0., 1., 1.],\n",
            "        [1., 0., 1., 1.],\n",
            "        [1., 0., 1., 1.],\n",
            "        [1., 0., 1., 1.]])\n"
          ],
          "name": "stdout"
        }
      ]
    },
    {
      "cell_type": "code",
      "metadata": {
        "colab": {
          "base_uri": "https://localhost:8080/"
        },
        "id": "7ZTkW-ThsRZc",
        "outputId": "41e31964-a876-4c4e-f171-1c879f305eb6"
      },
      "source": [
        "np_ones = np.ones((5,4))\n",
        "np_ones[:,1] = 0\n",
        "print(np_ones)\n",
        "print(np_ones.shape)"
      ],
      "execution_count": 14,
      "outputs": [
        {
          "output_type": "stream",
          "text": [
            "[[1. 0. 1. 1.]\n",
            " [1. 0. 1. 1.]\n",
            " [1. 0. 1. 1.]\n",
            " [1. 0. 1. 1.]\n",
            " [1. 0. 1. 1.]]\n",
            "(5, 4)\n"
          ],
          "name": "stdout"
        }
      ]
    },
    {
      "cell_type": "code",
      "metadata": {
        "colab": {
          "base_uri": "https://localhost:8080/"
        },
        "id": "xVn84fm6sZbd",
        "outputId": "c52826a8-224b-495a-bf10-59ca1b5aa58f"
      },
      "source": [
        "torch.mean(tensor,dim=0)"
      ],
      "execution_count": 60,
      "outputs": [
        {
          "output_type": "execute_result",
          "data": {
            "text/plain": [
              "tensor([30., 25., 30., 30.])"
            ]
          },
          "metadata": {
            "tags": []
          },
          "execution_count": 60
        }
      ]
    },
    {
      "cell_type": "code",
      "metadata": {
        "colab": {
          "base_uri": "https://localhost:8080/"
        },
        "id": "pCNq5lcptj5I",
        "outputId": "b74808b2-bf6c-4db4-87bd-1c50b50d7821"
      },
      "source": [
        "np.mean(np_ones,axis=0)"
      ],
      "execution_count": 16,
      "outputs": [
        {
          "output_type": "execute_result",
          "data": {
            "text/plain": [
              "array([1., 0., 1., 1.])"
            ]
          },
          "metadata": {
            "tags": []
          },
          "execution_count": 16
        }
      ]
    },
    {
      "cell_type": "code",
      "metadata": {
        "colab": {
          "base_uri": "https://localhost:8080/"
        },
        "id": "aih2RjlfW72M",
        "outputId": "d08ad504-542f-4488-f506-7bc37a092f64"
      },
      "source": [
        "tensor = tensor +5 \n",
        "print(tensor)"
      ],
      "execution_count": 17,
      "outputs": [
        {
          "output_type": "stream",
          "text": [
            "tensor([[6., 5., 6., 6.],\n",
            "        [6., 5., 6., 6.],\n",
            "        [6., 5., 6., 6.],\n",
            "        [6., 5., 6., 6.],\n",
            "        [6., 5., 6., 6.]])\n"
          ],
          "name": "stdout"
        }
      ]
    },
    {
      "cell_type": "code",
      "metadata": {
        "colab": {
          "base_uri": "https://localhost:8080/"
        },
        "id": "mju2zTN3W6ZG",
        "outputId": "ab39fb57-fe18-4b57-e06e-d5aee0aac3cc"
      },
      "source": [
        "tensor = tensor * 5\n",
        "print(tensor)"
      ],
      "execution_count": 18,
      "outputs": [
        {
          "output_type": "stream",
          "text": [
            "tensor([[30., 25., 30., 30.],\n",
            "        [30., 25., 30., 30.],\n",
            "        [30., 25., 30., 30.],\n",
            "        [30., 25., 30., 30.],\n",
            "        [30., 25., 30., 30.]])\n"
          ],
          "name": "stdout"
        }
      ]
    },
    {
      "cell_type": "code",
      "metadata": {
        "colab": {
          "base_uri": "https://localhost:8080/"
        },
        "id": "Z1yqePPCXLtt",
        "outputId": "b88ecf1b-bb66-41d3-e2b1-606288a259f4"
      },
      "source": [
        "W = torch.ones([1,4])\n",
        "y = torch.matmul(W , torch.transpose(tensor,0,1))\n",
        "print(y)"
      ],
      "execution_count": 19,
      "outputs": [
        {
          "output_type": "stream",
          "text": [
            "tensor([[115., 115., 115., 115., 115.]])\n"
          ],
          "name": "stdout"
        }
      ]
    },
    {
      "cell_type": "code",
      "metadata": {
        "colab": {
          "base_uri": "https://localhost:8080/"
        },
        "id": "lJYo-RUOYQpi",
        "outputId": "baa9fd7e-967b-4911-cb56-995c18140c43"
      },
      "source": [
        "np_ones = np_ones * 5\n",
        "W_np = np.ones((1,4))\n",
        "y_np = np.dot(W,np.transpose(np_ones))\n",
        "print(y_np)"
      ],
      "execution_count": 20,
      "outputs": [
        {
          "output_type": "stream",
          "text": [
            "[[15. 15. 15. 15. 15.]]\n"
          ],
          "name": "stdout"
        }
      ]
    },
    {
      "cell_type": "markdown",
      "metadata": {
        "id": "X0pByoKnYzNQ"
      },
      "source": [
        "#Designing a Feed Forward Neural Network"
      ]
    },
    {
      "cell_type": "markdown",
      "metadata": {
        "id": "E9zs_tdsZsOG"
      },
      "source": [
        "## Checking for arbitrary values of w\n",
        "Simple Function y = w * x \n",
        "x single dimensional Tensor\n",
        "y single scalar value for wach sample"
      ]
    },
    {
      "cell_type": "code",
      "metadata": {
        "colab": {
          "base_uri": "https://localhost:8080/",
          "height": 279
        },
        "id": "aHt-AHroZSFp",
        "outputId": "8f50e0b8-0c8f-4072-8c24-381cf3afd892"
      },
      "source": [
        "import numpy as np\n",
        "from matplotlib import pyplot as plt\n",
        "\n",
        "x_data =[1.0,2.0,3.0]\n",
        "y_data =[2.0,3.0,4.0]\n",
        "w = 1.0\n",
        "\n",
        "def forward(x):\n",
        "\treturn w*x\n",
        "\n",
        "def loss(x,y):\n",
        "\ty_pred = forward(x)\n",
        "\treturn (y_pred-y) * (y_pred - y)\n",
        "\n",
        "mse_list = []\n",
        "w_list = []\n",
        "for w in np.arange(0.0,4.1,0.1):\n",
        "\tl=0;\n",
        "\tfor x,y in zip(x_data,y_data):\n",
        "\t\tl = l+loss(x,y)\n",
        "\tmse_list.append(l/3)\n",
        "\tw_list.append(w)\n",
        "\n",
        "#print(mse_list)\n",
        "#print(w_list)\n",
        "\n",
        "plt.plot(w_list,mse_list)\n",
        "plt.xlabel('Parameter(w)')\n",
        "plt.ylabel('Loss (mse)')\n",
        "plt.show()"
      ],
      "execution_count": 21,
      "outputs": [
        {
          "output_type": "display_data",
          "data": {
            "image/png": "[encoded data removed]",
            "text/plain": [
              "<Figure size 432x288 with 1 Axes>"
            ]
          },
          "metadata": {
            "tags": [],
            "needs_background": "light"
          }
        }
      ]
    },
    {
      "cell_type": "markdown",
      "metadata": {
        "id": "Pyig-Lo8aWf3"
      },
      "source": [
        "## Gradient Descent Computation"
      ]
    },
    {
      "cell_type": "code",
      "metadata": {
        "colab": {
          "base_uri": "https://localhost:8080/",
          "height": 296
        },
        "id": "nE1CMZGvZ6-5",
        "outputId": "4254ea29-f388-41e3-91b7-5940b745ff73"
      },
      "source": [
        "import numpy as np\n",
        "from matplotlib import pyplot as plt\n",
        "\n",
        "x_data =[1.0,2.0,3.0]\n",
        "y_data =[2.0,3.0,4.0]\n",
        "w = 1.0\n",
        "\n",
        "def forward(x):\n",
        "\treturn w*x\n",
        "\n",
        "def loss(x,y):\n",
        "\ty_pred = forward(x)\n",
        "\treturn (y_pred-y) * (y_pred - y)\n",
        "\n",
        "def gradient(x,y,w):\n",
        "\treturn 2*x*(w*x-y)\n",
        "\n",
        "epochs=[]\n",
        "loss_epoch=[]\n",
        "for epoch in range(100):\n",
        "\tfor(x,y) in zip(x_data,y_data):\n",
        "\t\tgrad = gradient(x,y,w)\n",
        "\t\tw =  w - grad*0.01\n",
        "\t\tl = loss(x,y)\n",
        "\t#print(str(epoch)+\":\"+str(l))\n",
        "\tepochs.append(epoch)\n",
        "\tloss_epoch.append(l)\n",
        "\n",
        "\n",
        "\n",
        "plt.plot(epochs,loss_epoch)\n",
        "plt.xlabel('Epochs')\n",
        "plt.ylabel('Loss Value')\n",
        "plt.show()\n",
        "print(w)"
      ],
      "execution_count": 61,
      "outputs": [
        {
          "output_type": "display_data",
          "data": {
            "image/png": "[encoded data removed]",
            "text/plain": [
              "<Figure size 432x288 with 1 Axes>"
            ]
          },
          "metadata": {
            "tags": [],
            "needs_background": "light"
          }
        },
        {
          "output_type": "stream",
          "text": [
            "1.4138587123304174\n"
          ],
          "name": "stdout"
        }
      ]
    },
    {
      "cell_type": "markdown",
      "metadata": {
        "id": "nU2k1yEiajo4"
      },
      "source": [
        "# Keras Workflow"
      ]
    },
    {
      "cell_type": "code",
      "metadata": {
        "colab": {
          "base_uri": "https://localhost:8080/"
        },
        "id": "PO7XIZN2aqo1",
        "outputId": "bd18349a-e0a5-4ecc-e63e-e26d55ccffb0"
      },
      "source": [
        "import numpy as np\n",
        "from keras import models\n",
        "from keras import layers\n",
        "\n",
        "# Define Data\n",
        "x_data =np.array([1.0,2.0,3.0])\n",
        "y_data =np.array([2.0,3.0,4.0])\n",
        "\n",
        "#Define layers in the model\n",
        "model = models.Sequential()\n",
        "model.add(layers.Dense(1, use_bias=False, input_shape=(1,)))\n",
        "\n",
        "print(model.summary())"
      ],
      "execution_count": 78,
      "outputs": [
        {
          "output_type": "stream",
          "text": [
            "Model: \"sequential_7\"\n",
            "_________________________________________________________________\n",
            "Layer (type)                 Output Shape              Param #   \n",
            "=================================================================\n",
            "dense_9 (Dense)              (None, 1)                 1         \n",
            "=================================================================\n",
            "Total params: 1\n",
            "Trainable params: 1\n",
            "Non-trainable params: 0\n",
            "_________________________________________________________________\n",
            "None\n"
          ],
          "name": "stdout"
        }
      ]
    },
    {
      "cell_type": "code",
      "metadata": {
        "colab": {
          "base_uri": "https://localhost:8080/"
        },
        "id": "E_tfuGTWbuGW",
        "outputId": "3a19d12e-c097-41ba-db88-0d2516b0516c"
      },
      "source": [
        "#Configure the learning process\n",
        "from keras import optimizers\n",
        "import keras\n",
        "model.compile(optimizer='sgd', loss='mse', metrics=keras.metrics.MeanSquaredError())\n",
        "\n",
        "#Iterate the training data using fit\n",
        "hist = model.fit(x_data.reshape(3,1),y_data.reshape(3,1),batch_size=1,epochs=100)"
      ],
      "execution_count": 79,
      "outputs": [
        {
          "output_type": "stream",
          "text": [
            "Epoch 1/100\n",
            "3/3 [==============================] - 0s 3ms/step - loss: 0.1077 - mean_squared_error: 0.1077    \n",
            "Epoch 2/100\n",
            "3/3 [==============================] - 0s 3ms/step - loss: 0.1666 - mean_squared_error: 0.1666\n",
            "Epoch 3/100\n",
            "3/3 [==============================] - 0s 3ms/step - loss: 0.1350 - mean_squared_error: 0.1350\n",
            "Epoch 4/100\n",
            "3/3 [==============================] - 0s 3ms/step - loss: 0.1013 - mean_squared_error: 0.1013\n",
            "Epoch 5/100\n",
            "3/3 [==============================] - 0s 3ms/step - loss: 0.0982 - mean_squared_error: 0.0982\n",
            "Epoch 6/100\n",
            "3/3 [==============================] - 0s 2ms/step - loss: 0.2168 - mean_squared_error: 0.2168\n",
            "Epoch 7/100\n",
            "3/3 [==============================] - 0s 2ms/step - loss: 0.0957 - mean_squared_error: 0.0957\n",
            "Epoch 8/100\n",
            "3/3 [==============================] - 0s 3ms/step - loss: 0.2141 - mean_squared_error: 0.2141\n",
            "Epoch 9/100\n",
            "3/3 [==============================] - 0s 3ms/step - loss: 0.1278 - mean_squared_error: 0.1278\n",
            "Epoch 10/100\n",
            "3/3 [==============================] - 0s 3ms/step - loss: 0.1430 - mean_squared_error: 0.1430\n",
            "Epoch 11/100\n",
            "3/3 [==============================] - 0s 3ms/step - loss: 0.2125 - mean_squared_error: 0.2125\n",
            "Epoch 12/100\n",
            "3/3 [==============================] - 0s 3ms/step - loss: 0.1053 - mean_squared_error: 0.1053\n",
            "Epoch 13/100\n",
            "3/3 [==============================] - 0s 3ms/step - loss: 0.2016 - mean_squared_error: 0.2016\n",
            "Epoch 14/100\n",
            "3/3 [==============================] - 0s 3ms/step - loss: 0.2030 - mean_squared_error: 0.2030\n",
            "Epoch 15/100\n",
            "3/3 [==============================] - 0s 3ms/step - loss: 0.1446 - mean_squared_error: 0.1446\n",
            "Epoch 16/100\n",
            "3/3 [==============================] - 0s 3ms/step - loss: 0.0946 - mean_squared_error: 0.0946\n",
            "Epoch 17/100\n",
            "3/3 [==============================] - 0s 3ms/step - loss: 0.0946 - mean_squared_error: 0.0946\n",
            "Epoch 18/100\n",
            "3/3 [==============================] - 0s 3ms/step - loss: 0.1467 - mean_squared_error: 0.1467\n",
            "Epoch 19/100\n",
            "3/3 [==============================] - 0s 4ms/step - loss: 0.1241 - mean_squared_error: 0.1241\n",
            "Epoch 20/100\n",
            "3/3 [==============================] - 0s 3ms/step - loss: 0.1250 - mean_squared_error: 0.1250\n",
            "Epoch 21/100\n",
            "3/3 [==============================] - 0s 3ms/step - loss: 0.1256 - mean_squared_error: 0.1256\n",
            "Epoch 22/100\n",
            "3/3 [==============================] - 0s 3ms/step - loss: 0.1261 - mean_squared_error: 0.1261\n",
            "Epoch 23/100\n",
            "3/3 [==============================] - 0s 3ms/step - loss: 0.2042 - mean_squared_error: 0.2042\n",
            "Epoch 24/100\n",
            "3/3 [==============================] - 0s 3ms/step - loss: 0.2049 - mean_squared_error: 0.2049\n",
            "Epoch 25/100\n",
            "3/3 [==============================] - 0s 6ms/step - loss: 0.0949 - mean_squared_error: 0.0949\n",
            "Epoch 26/100\n",
            "3/3 [==============================] - 0s 3ms/step - loss: 0.1443 - mean_squared_error: 0.1443\n",
            "Epoch 27/100\n",
            "3/3 [==============================] - 0s 3ms/step - loss: 0.2120 - mean_squared_error: 0.2120\n",
            "Epoch 28/100\n",
            "3/3 [==============================] - 0s 3ms/step - loss: 0.1253 - mean_squared_error: 0.1253\n",
            "Epoch 29/100\n",
            "3/3 [==============================] - 0s 3ms/step - loss: 0.1452 - mean_squared_error: 0.1452\n",
            "Epoch 30/100\n",
            "3/3 [==============================] - 0s 3ms/step - loss: 0.2020 - mean_squared_error: 0.2020\n",
            "Epoch 31/100\n",
            "3/3 [==============================] - 0s 3ms/step - loss: 0.1055 - mean_squared_error: 0.1055\n",
            "Epoch 32/100\n",
            "3/3 [==============================] - 0s 4ms/step - loss: 0.1074 - mean_squared_error: 0.1074\n",
            "Epoch 33/100\n",
            "3/3 [==============================] - 0s 3ms/step - loss: 0.0946 - mean_squared_error: 0.0946\n",
            "Epoch 34/100\n",
            "3/3 [==============================] - 0s 4ms/step - loss: 0.1087 - mean_squared_error: 0.1087\n",
            "Epoch 35/100\n",
            "3/3 [==============================] - 0s 3ms/step - loss: 0.1996 - mean_squared_error: 0.1996\n",
            "Epoch 36/100\n",
            "3/3 [==============================] - 0s 3ms/step - loss: 0.0946 - mean_squared_error: 0.0946\n",
            "Epoch 37/100\n",
            "3/3 [==============================] - 0s 3ms/step - loss: 0.2013 - mean_squared_error: 0.2013\n",
            "Epoch 38/100\n",
            "3/3 [==============================] - 0s 4ms/step - loss: 0.2027 - mean_squared_error: 0.2027\n",
            "Epoch 39/100\n",
            "3/3 [==============================] - 0s 4ms/step - loss: 0.1448 - mean_squared_error: 0.1448\n",
            "Epoch 40/100\n",
            "3/3 [==============================] - 0s 4ms/step - loss: 0.0946 - mean_squared_error: 0.0946\n",
            "Epoch 41/100\n",
            "3/3 [==============================] - 0s 4ms/step - loss: 0.1069 - mean_squared_error: 0.1069\n",
            "Epoch 42/100\n",
            "3/3 [==============================] - 0s 3ms/step - loss: 0.2006 - mean_squared_error: 0.2006\n",
            "Epoch 43/100\n",
            "3/3 [==============================] - 0s 4ms/step - loss: 0.1463 - mean_squared_error: 0.1463\n",
            "Epoch 44/100\n",
            "3/3 [==============================] - 0s 3ms/step - loss: 0.0946 - mean_squared_error: 0.0946\n",
            "Epoch 45/100\n",
            "3/3 [==============================] - 0s 3ms/step - loss: 0.2012 - mean_squared_error: 0.2012\n",
            "Epoch 46/100\n",
            "3/3 [==============================] - 0s 3ms/step - loss: 0.2120 - mean_squared_error: 0.2120\n",
            "Epoch 47/100\n",
            "3/3 [==============================] - 0s 3ms/step - loss: 0.1253 - mean_squared_error: 0.1253\n",
            "Epoch 48/100\n",
            "3/3 [==============================] - 0s 3ms/step - loss: 0.0946 - mean_squared_error: 0.0946\n",
            "Epoch 49/100\n",
            "3/3 [==============================] - 0s 4ms/step - loss: 0.2121 - mean_squared_error: 0.2121\n",
            "Epoch 50/100\n",
            "3/3 [==============================] - 0s 3ms/step - loss: 0.2026 - mean_squared_error: 0.2026\n",
            "Epoch 51/100\n",
            "3/3 [==============================] - 0s 3ms/step - loss: 0.1050 - mean_squared_error: 0.1050\n",
            "Epoch 52/100\n",
            "3/3 [==============================] - 0s 3ms/step - loss: 0.1467 - mean_squared_error: 0.1467\n",
            "Epoch 53/100\n",
            "3/3 [==============================] - 0s 5ms/step - loss: 0.0946 - mean_squared_error: 0.0946\n",
            "Epoch 54/100\n",
            "3/3 [==============================] - 0s 3ms/step - loss: 0.2010 - mean_squared_error: 0.2010\n",
            "Epoch 55/100\n",
            "3/3 [==============================] - 0s 5ms/step - loss: 0.2119 - mean_squared_error: 0.2119\n",
            "Epoch 56/100\n",
            "3/3 [==============================] - 0s 4ms/step - loss: 0.1064 - mean_squared_error: 0.1064\n",
            "Epoch 57/100\n",
            "3/3 [==============================] - 0s 3ms/step - loss: 0.1477 - mean_squared_error: 0.1477\n",
            "Epoch 58/100\n",
            "3/3 [==============================] - 0s 4ms/step - loss: 0.1237 - mean_squared_error: 0.1237\n",
            "Epoch 59/100\n",
            "3/3 [==============================] - 0s 3ms/step - loss: 0.2016 - mean_squared_error: 0.2016\n",
            "Epoch 60/100\n",
            "3/3 [==============================] - 0s 3ms/step - loss: 0.1256 - mean_squared_error: 0.1256\n",
            "Epoch 61/100\n",
            "3/3 [==============================] - 0s 4ms/step - loss: 0.2124 - mean_squared_error: 0.2124\n",
            "Epoch 62/100\n",
            "3/3 [==============================] - 0s 5ms/step - loss: 0.1258 - mean_squared_error: 0.1258\n",
            "Epoch 63/100\n",
            "3/3 [==============================] - 0s 4ms/step - loss: 0.2039 - mean_squared_error: 0.2039\n",
            "Epoch 64/100\n",
            "3/3 [==============================] - 0s 4ms/step - loss: 0.0948 - mean_squared_error: 0.0948\n",
            "Epoch 65/100\n",
            "3/3 [==============================] - 0s 4ms/step - loss: 0.1448 - mean_squared_error: 0.1448\n",
            "Epoch 66/100\n",
            "3/3 [==============================] - 0s 3ms/step - loss: 0.1066 - mean_squared_error: 0.1066\n",
            "Epoch 67/100\n",
            "3/3 [==============================] - 0s 3ms/step - loss: 0.2008 - mean_squared_error: 0.2008\n",
            "Epoch 68/100\n",
            "3/3 [==============================] - 0s 5ms/step - loss: 0.1252 - mean_squared_error: 0.1252\n",
            "Epoch 69/100\n",
            "3/3 [==============================] - 0s 5ms/step - loss: 0.1055 - mean_squared_error: 0.1055\n",
            "Epoch 70/100\n",
            "3/3 [==============================] - 0s 3ms/step - loss: 0.0946 - mean_squared_error: 0.0946\n",
            "Epoch 71/100\n",
            "3/3 [==============================] - 0s 3ms/step - loss: 0.2115 - mean_squared_error: 0.2115\n",
            "Epoch 72/100\n",
            "3/3 [==============================] - 0s 3ms/step - loss: 0.2016 - mean_squared_error: 0.2016\n",
            "Epoch 73/100\n",
            "3/3 [==============================] - 0s 3ms/step - loss: 0.0946 - mean_squared_error: 0.0946\n",
            "Epoch 74/100\n",
            "3/3 [==============================] - 0s 3ms/step - loss: 0.2025 - mean_squared_error: 0.2025\n",
            "Epoch 75/100\n",
            "3/3 [==============================] - 0s 3ms/step - loss: 0.0947 - mean_squared_error: 0.0947\n",
            "Epoch 76/100\n",
            "3/3 [==============================] - 0s 3ms/step - loss: 0.1456 - mean_squared_error: 0.1456\n",
            "Epoch 77/100\n",
            "3/3 [==============================] - 0s 5ms/step - loss: 0.1469 - mean_squared_error: 0.1469\n",
            "Epoch 78/100\n",
            "3/3 [==============================] - 0s 3ms/step - loss: 0.1479 - mean_squared_error: 0.1479\n",
            "Epoch 79/100\n",
            "3/3 [==============================] - 0s 3ms/step - loss: 0.2111 - mean_squared_error: 0.2111\n",
            "Epoch 80/100\n",
            "3/3 [==============================] - 0s 3ms/step - loss: 0.1480 - mean_squared_error: 0.1480\n",
            "Epoch 81/100\n",
            "3/3 [==============================] - 0s 3ms/step - loss: 0.2111 - mean_squared_error: 0.2111\n",
            "Epoch 82/100\n",
            "3/3 [==============================] - 0s 3ms/step - loss: 0.1085 - mean_squared_error: 0.1085\n",
            "Epoch 83/100\n",
            "3/3 [==============================] - 0s 4ms/step - loss: 0.2109 - mean_squared_error: 0.2109\n",
            "Epoch 84/100\n",
            "3/3 [==============================] - 0s 4ms/step - loss: 0.0946 - mean_squared_error: 0.0946\n",
            "Epoch 85/100\n",
            "3/3 [==============================] - 0s 3ms/step - loss: 0.1482 - mean_squared_error: 0.1482\n",
            "Epoch 86/100\n",
            "3/3 [==============================] - 0s 3ms/step - loss: 0.1094 - mean_squared_error: 0.1094\n",
            "Epoch 87/100\n",
            "3/3 [==============================] - 0s 3ms/step - loss: 0.2107 - mean_squared_error: 0.2107\n",
            "Epoch 88/100\n",
            "3/3 [==============================] - 0s 3ms/step - loss: 0.2000 - mean_squared_error: 0.2000\n",
            "Epoch 89/100\n",
            "3/3 [==============================] - 0s 3ms/step - loss: 0.2116 - mean_squared_error: 0.2116\n",
            "Epoch 90/100\n",
            "3/3 [==============================] - 0s 3ms/step - loss: 0.1467 - mean_squared_error: 0.1467\n",
            "Epoch 91/100\n",
            "3/3 [==============================] - 0s 4ms/step - loss: 0.2009 - mean_squared_error: 0.2009\n",
            "Epoch 92/100\n",
            "3/3 [==============================] - 0s 3ms/step - loss: 0.2024 - mean_squared_error: 0.2024\n",
            "Epoch 93/100\n",
            "3/3 [==============================] - 0s 4ms/step - loss: 0.0947 - mean_squared_error: 0.0947\n",
            "Epoch 94/100\n",
            "3/3 [==============================] - 0s 3ms/step - loss: 0.2029 - mean_squared_error: 0.2029\n",
            "Epoch 95/100\n",
            "3/3 [==============================] - 0s 4ms/step - loss: 0.1263 - mean_squared_error: 0.1263\n",
            "Epoch 96/100\n",
            "3/3 [==============================] - 0s 3ms/step - loss: 0.1267 - mean_squared_error: 0.1267\n",
            "Epoch 97/100\n",
            "3/3 [==============================] - 0s 5ms/step - loss: 0.1040 - mean_squared_error: 0.1040\n",
            "Epoch 98/100\n",
            "3/3 [==============================] - 0s 3ms/step - loss: 0.1460 - mean_squared_error: 0.1460\n",
            "Epoch 99/100\n",
            "3/3 [==============================] - 0s 4ms/step - loss: 0.2115 - mean_squared_error: 0.2115\n",
            "Epoch 100/100\n",
            "3/3 [==============================] - 0s 3ms/step - loss: 0.2017 - mean_squared_error: 0.2017\n"
          ],
          "name": "stdout"
        }
      ]
    },
    {
      "cell_type": "code",
      "metadata": {
        "colab": {
          "base_uri": "https://localhost:8080/"
        },
        "id": "cS70B9COcuoc",
        "outputId": "bb638207-a048-497a-8770-0c7e730c9bfc"
      },
      "source": [
        "for layer in model.layers: \n",
        "  print(layer.get_weights())"
      ],
      "execution_count": 27,
      "outputs": [
        {
          "output_type": "stream",
          "text": [
            "[array([[1.4246372]], dtype=float32)]\n"
          ],
          "name": "stdout"
        }
      ]
    },
    {
      "cell_type": "code",
      "metadata": {
        "colab": {
          "base_uri": "https://localhost:8080/",
          "height": 299
        },
        "id": "0xwu9qcjRQJM",
        "outputId": "61bd073a-fd32-4e85-9820-8166ddb026b0"
      },
      "source": [
        "for key,value in hist.history.items():\n",
        "  print(key)\n",
        "\n",
        "hist.history['loss']\n",
        "plt.plot(hist.history['loss'])\n",
        "plt.plot(hist.history['mean_squared_error'],'g*')\n",
        "plt.show()"
      ],
      "execution_count": 91,
      "outputs": [
        {
          "output_type": "stream",
          "text": [
            "loss\n",
            "mean_squared_error\n"
          ],
          "name": "stdout"
        },
        {
          "output_type": "display_data",
          "data": {
            "image/png": "[encoded data removed]",
            "text/plain": [
              "<Figure size 432x288 with 1 Axes>"
            ]
          },
          "metadata": {
            "tags": [],
            "needs_background": "light"
          }
        }
      ]
    },
    {
      "cell_type": "code",
      "metadata": {
        "colab": {
          "base_uri": "https://localhost:8080/"
        },
        "id": "OjoZ6kFjSQcE",
        "outputId": "d014fc52-d58f-4d1a-b94a-7006219fa631"
      },
      "source": [
        "model.predict([[8.1]])"
      ],
      "execution_count": 97,
      "outputs": [
        {
          "output_type": "execute_result",
          "data": {
            "text/plain": [
              "array([[11.515258]], dtype=float32)"
            ]
          },
          "metadata": {
            "tags": []
          },
          "execution_count": 97
        }
      ]
    },
    {
      "cell_type": "code",
      "metadata": {
        "colab": {
          "base_uri": "https://localhost:8080/"
        },
        "id": "jMM-rIwvSXxv",
        "outputId": "7505300f-2d7e-42a1-9dc2-3ba11afc8916"
      },
      "source": [
        "for layer in model.layers:\n",
        "  print(layer.get_weights())"
      ],
      "execution_count": 94,
      "outputs": [
        {
          "output_type": "stream",
          "text": [
            "[array([[1.4216367]], dtype=float32)]\n"
          ],
          "name": "stdout"
        }
      ]
    },
    {
      "cell_type": "markdown",
      "metadata": {
        "id": "cRt3csyoan0G"
      },
      "source": [
        "# PyTorch Workflow\n",
        "\n",
        "```\n",
        "# This is formatted as code\n",
        "```\n",
        "\n"
      ]
    },
    {
      "cell_type": "markdown",
      "metadata": {
        "id": "8K81_PxxxR3r"
      },
      "source": [
        "Autograd and NN in pyTorch"
      ]
    },
    {
      "cell_type": "code",
      "metadata": {
        "colab": {
          "base_uri": "https://localhost:8080/"
        },
        "id": "djA-r8aRtuS3",
        "outputId": "0da379b8-838d-4fdd-a1e4-d68236a18b7b"
      },
      "source": [
        "import torch\n",
        "\n",
        "a = torch.tensor([2.,3.], requires_grad=True) #requires_grad is not set, gradient will noot be computed for that tensor\n",
        "b = torch.tensor([6.,3.], requires_grad=True)\n",
        "Q = 3*a**3 - b**2\n",
        "\n",
        "\n",
        "#Explixitly mention the gradient computation\n",
        "external_grad = torch.tensor([1.,1.]) # Number of input values for which gradient to be computed\n",
        "Q.backward(gradient=external_grad) # Computes gradients and store the information in the tensors grad attribute\n",
        "\n",
        "\n",
        "print(9*a**2 == a.grad)\n",
        "print(-2*b == b.grad)\n"
      ],
      "execution_count": 70,
      "outputs": [
        {
          "output_type": "stream",
          "text": [
            "tensor([True, True])\n",
            "tensor([True, True])\n"
          ],
          "name": "stdout"
        }
      ]
    },
    {
      "cell_type": "code",
      "metadata": {
        "id": "zOJpcq2WegeW"
      },
      "source": [
        "import torch\n",
        "# Define Data\n",
        "x_data =np.array([1.0,2.0,3.0])\n",
        "y_data =np.array([2.0,3.0,4.0])\n",
        "x_data = x_data.reshape((3,1))\n",
        "y_data = y_data.reshape((3,1))\n",
        "\n",
        "x_tensor = torch.from_numpy(x_data)\n",
        "y_tensor = torch.from_numpy(y_data)"
      ],
      "execution_count": 29,
      "outputs": []
    },
    {
      "cell_type": "code",
      "metadata": {
        "id": "0VQx9XZveRPm"
      },
      "source": [
        "#nn depends on autograd to define models and differentiate them. An nn.Module contains layers, and a method forward(input) that returns the output.\n",
        "#Define architecture\n",
        "import torch\n",
        "import torch.nn as nn\n",
        "import torch.nn.functional as F\n",
        "\n",
        "\n",
        "class Net(nn.Module):\n",
        "\n",
        "    def __init__(self):\n",
        "        super(Net, self).__init__()\n",
        "        \n",
        "        # an affine operation: y = Wx + b\n",
        "        self.fc1 = nn.Linear(1, 1,bias=False)  # 13 feature dimension\n",
        "        \n",
        "    def forward(self, x):\n",
        "        x = self.fc1(x)\n",
        "        return x"
      ],
      "execution_count": 74,
      "outputs": []
    },
    {
      "cell_type": "code",
      "metadata": {
        "colab": {
          "base_uri": "https://localhost:8080/"
        },
        "id": "IWhIvpi1e6m2",
        "outputId": "3725fb99-1f2a-40d4-8e17-79c192bbce81"
      },
      "source": [
        "model = Net()\n",
        "print(model)"
      ],
      "execution_count": 75,
      "outputs": [
        {
          "output_type": "stream",
          "text": [
            "Net(\n",
            "  (fc1): Linear(in_features=1, out_features=1, bias=False)\n",
            ")\n"
          ],
          "name": "stdout"
        }
      ]
    },
    {
      "cell_type": "code",
      "metadata": {
        "colab": {
          "base_uri": "https://localhost:8080/"
        },
        "id": "vIpgkc8oe92K",
        "outputId": "1d47d456-66ac-467f-8c05-951801b80ebe"
      },
      "source": [
        "params = list(model.parameters()) # Each layer contains Weight and Biases\n",
        "print(len(params))\n",
        "print(params[0].shape) \n"
      ],
      "execution_count": 32,
      "outputs": [
        {
          "output_type": "stream",
          "text": [
            "1\n",
            "torch.Size([1, 1])\n"
          ],
          "name": "stdout"
        }
      ]
    },
    {
      "cell_type": "code",
      "metadata": {
        "colab": {
          "base_uri": "https://localhost:8080/"
        },
        "id": "vwFgqWBOfD78",
        "outputId": "59f22d0b-7031-46c1-86c5-bdb44827fdbb"
      },
      "source": [
        "print(params[0].requires_grad)\n",
        "print(params[0].dtype)\n",
        "print(type(params[0]))"
      ],
      "execution_count": 33,
      "outputs": [
        {
          "output_type": "stream",
          "text": [
            "True\n",
            "torch.float32\n",
            "<class 'torch.nn.parameter.Parameter'>\n"
          ],
          "name": "stdout"
        }
      ]
    },
    {
      "cell_type": "code",
      "metadata": {
        "id": "k98tAc1mfKRb"
      },
      "source": [
        "# Configure the training process\n",
        "Criterion = torch.nn.MSELoss()\n",
        "optimizer = torch.optim.SGD(model.parameters(),lr=0.01)\n",
        "\n",
        "\n",
        "#Train_Model\n",
        "epoch_list=[]\n",
        "loss_list=[]\n",
        "for epoch in range(100):\n",
        "  \n",
        "  out = model(x_tensor.float())\n",
        "  loss = Criterion(out, y_tensor.float() )\n",
        "  \n",
        "  optimizer.zero_grad()\n",
        "  loss.backward()\n",
        "  optimizer.step()\n",
        "\n",
        "  epoch_list.append(epoch)\n",
        "  loss_list.append(loss)\n"
      ],
      "execution_count": 76,
      "outputs": []
    },
    {
      "cell_type": "code",
      "metadata": {
        "colab": {
          "base_uri": "https://localhost:8080/",
          "height": 279
        },
        "id": "b-Jvjd_3f0e1",
        "outputId": "0e4de147-7643-4599-dc82-5e3c8296a80b"
      },
      "source": [
        "from matplotlib import pyplot as plt\n",
        "plt.plot(epoch_list,loss_list)\n",
        "plt.xlabel('Epochs')\n",
        "plt.ylabel('Loss')\n",
        "plt.show()"
      ],
      "execution_count": 77,
      "outputs": [
        {
          "output_type": "display_data",
          "data": {
            "image/png": "[encoded data removed]",
            "text/plain": [
              "<Figure size 432x288 with 1 Axes>"
            ]
          },
          "metadata": {
            "tags": [],
            "needs_background": "light"
          }
        }
      ]
    },
    {
      "cell_type": "code",
      "metadata": {
        "colab": {
          "base_uri": "https://localhost:8080/"
        },
        "id": "3UjLdcFOgKI1",
        "outputId": "d6cd1188-9788-4012-e584-08f2a2e7fa75"
      },
      "source": [
        "print(params[0])"
      ],
      "execution_count": 36,
      "outputs": [
        {
          "output_type": "stream",
          "text": [
            "Parameter containing:\n",
            "tensor([[1.4285]], requires_grad=True)\n"
          ],
          "name": "stdout"
        }
      ]
    },
    {
      "cell_type": "markdown",
      "metadata": {
        "id": "SmX7WMRfgPrO"
      },
      "source": [
        "# Regression Example\n",
        "\n",
        "> Predict Median Price of home based on certain statistics about the area\n",
        "\n"
      ]
    },
    {
      "cell_type": "markdown",
      "metadata": {
        "id": "HIG_y0RjgbU-"
      },
      "source": [
        "## Keras Model\n",
        "\n",
        "It takes as an input a two dimensional array with 404 samples and 13 features \n",
        "Predicts a single sclar value for y"
      ]
    },
    {
      "cell_type": "code",
      "metadata": {
        "colab": {
          "base_uri": "https://localhost:8080/"
        },
        "id": "I7S-J6B00yKE",
        "outputId": "c9db5584-7a6b-4121-ed72-e8f8689eaf67"
      },
      "source": [
        "from keras.datasets import boston_housing\n",
        "\n",
        "(train_data,train_targets) , (test_data,test_targets) =  boston_housing.load_data()\n",
        "print(train_data.shape)\n",
        "print(test_data.shape)"
      ],
      "execution_count": 98,
      "outputs": [
        {
          "output_type": "stream",
          "text": [
            "(404, 13)\n",
            "(102, 13)\n"
          ],
          "name": "stdout"
        }
      ]
    },
    {
      "cell_type": "code",
      "metadata": {
        "colab": {
          "base_uri": "https://localhost:8080/"
        },
        "id": "Q69ggTJCWdjb",
        "outputId": "20cfa97a-2e65-4e65-97d9-90143bd47870"
      },
      "source": [
        "train_data.mean(axis=0)"
      ],
      "execution_count": 99,
      "outputs": [
        {
          "output_type": "execute_result",
          "data": {
            "text/plain": [
              "array([3.74511057e+00, 1.14801980e+01, 1.11044307e+01, 6.18811881e-02,\n",
              "       5.57355941e-01, 6.26708168e+00, 6.90106436e+01, 3.74027079e+00,\n",
              "       9.44059406e+00, 4.05898515e+02, 1.84759901e+01, 3.54783168e+02,\n",
              "       1.27408168e+01])"
            ]
          },
          "metadata": {
            "tags": []
          },
          "execution_count": 99
        }
      ]
    },
    {
      "cell_type": "code",
      "metadata": {
        "id": "oc46C6KC1WAz"
      },
      "source": [
        "#Preparing Data\n",
        "mean = train_data.mean(axis=0)\n",
        "train_data -=mean\n",
        "std = train_data.std(axis=0)\n",
        "train_data /=std\n",
        "\n",
        "test_data -=mean\n",
        "test_data /=std"
      ],
      "execution_count": 38,
      "outputs": []
    },
    {
      "cell_type": "code",
      "metadata": {
        "colab": {
          "base_uri": "https://localhost:8080/"
        },
        "id": "Eyo_44UPhH5S",
        "outputId": "d50d947e-7e6d-441b-cd30-a9fd363c582e"
      },
      "source": [
        "print(test_targets)"
      ],
      "execution_count": 39,
      "outputs": [
        {
          "output_type": "stream",
          "text": [
            "[ 7.2 18.8 19.  27.  22.2 24.5 31.2 22.9 20.5 23.2 18.6 14.5 17.8 50.\n",
            " 20.8 24.3 24.2 19.8 19.1 22.7 12.  10.2 20.  18.5 20.9 23.  27.5 30.1\n",
            "  9.5 22.  21.2 14.1 33.1 23.4 20.1  7.4 15.4 23.8 20.1 24.5 33.  28.4\n",
            " 14.1 46.7 32.5 29.6 28.4 19.8 20.2 25.  35.4 20.3  9.7 14.5 34.9 26.6\n",
            "  7.2 50.  32.4 21.6 29.8 13.1 27.5 21.2 23.1 21.9 13.  23.2  8.1  5.6\n",
            " 21.7 29.6 19.6  7.  26.4 18.9 20.9 28.1 35.4 10.2 24.3 43.1 17.6 15.4\n",
            " 16.2 27.1 21.4 21.5 22.4 25.  16.6 18.6 22.  42.8 35.1 21.5 36.  21.9\n",
            " 24.1 50.  26.7 25. ]\n"
          ],
          "name": "stdout"
        }
      ]
    },
    {
      "cell_type": "code",
      "metadata": {
        "id": "3xJREKoYhcMA"
      },
      "source": [
        "def build_model():\n",
        "  model = models.Sequential()\n",
        "  model.add(layers.Dense(64, activation='relu', input_shape=(train_data.shape[1],)))\n",
        "  model.add(layers.Dense(64, activation='relu'))\n",
        "  model.add(layers.Dense(1))\n",
        "  model.compile(optimizer='rmsprop',loss='mse',metrics=['mse'])\n",
        "  return model"
      ],
      "execution_count": 40,
      "outputs": []
    },
    {
      "cell_type": "code",
      "metadata": {
        "colab": {
          "base_uri": "https://localhost:8080/"
        },
        "id": "vIbDbagMiBLQ",
        "outputId": "86d4e5de-b7a8-4a8a-c21f-4e9ea9117fae"
      },
      "source": [
        "model = build_model()\n",
        "history = model.fit(train_data, train_targets, epochs=100, batch_size=4)"
      ],
      "execution_count": 100,
      "outputs": [
        {
          "output_type": "stream",
          "text": [
            "Epoch 1/100\n",
            "101/101 [==============================] - 1s 2ms/step - loss: 256.9818 - mse: 256.9818\n",
            "Epoch 2/100\n",
            "101/101 [==============================] - 0s 2ms/step - loss: 155.9660 - mse: 155.9660\n",
            "Epoch 3/100\n",
            "101/101 [==============================] - 0s 2ms/step - loss: 116.8007 - mse: 116.8007\n",
            "Epoch 4/100\n",
            "101/101 [==============================] - 0s 2ms/step - loss: 85.8233 - mse: 85.8233\n",
            "Epoch 5/100\n",
            "101/101 [==============================] - 0s 2ms/step - loss: 95.6000 - mse: 95.6000\n",
            "Epoch 6/100\n",
            "101/101 [==============================] - 0s 2ms/step - loss: 77.5281 - mse: 77.5281\n",
            "Epoch 7/100\n",
            "101/101 [==============================] - 0s 2ms/step - loss: 78.5830 - mse: 78.5830\n",
            "Epoch 8/100\n",
            "101/101 [==============================] - 0s 2ms/step - loss: 64.5642 - mse: 64.5642\n",
            "Epoch 9/100\n",
            "101/101 [==============================] - 0s 2ms/step - loss: 66.0230 - mse: 66.0230\n",
            "Epoch 10/100\n",
            "101/101 [==============================] - 0s 2ms/step - loss: 78.5776 - mse: 78.5776\n",
            "Epoch 11/100\n",
            "101/101 [==============================] - 0s 2ms/step - loss: 76.5208 - mse: 76.5208\n",
            "Epoch 12/100\n",
            "101/101 [==============================] - 0s 2ms/step - loss: 79.1671 - mse: 79.1671\n",
            "Epoch 13/100\n",
            "101/101 [==============================] - 0s 2ms/step - loss: 57.6798 - mse: 57.6798\n",
            "Epoch 14/100\n",
            "101/101 [==============================] - 0s 2ms/step - loss: 53.1696 - mse: 53.1696\n",
            "Epoch 15/100\n",
            "101/101 [==============================] - 0s 2ms/step - loss: 43.5919 - mse: 43.5919\n",
            "Epoch 16/100\n",
            "101/101 [==============================] - 0s 2ms/step - loss: 38.8624 - mse: 38.8624\n",
            "Epoch 17/100\n",
            "101/101 [==============================] - 0s 2ms/step - loss: 48.2223 - mse: 48.2223\n",
            "Epoch 18/100\n",
            "101/101 [==============================] - 0s 2ms/step - loss: 53.6075 - mse: 53.6075\n",
            "Epoch 19/100\n",
            "101/101 [==============================] - 0s 2ms/step - loss: 43.6979 - mse: 43.6979\n",
            "Epoch 20/100\n",
            "101/101 [==============================] - 0s 2ms/step - loss: 46.2283 - mse: 46.2283\n",
            "Epoch 21/100\n",
            "101/101 [==============================] - 0s 2ms/step - loss: 46.7705 - mse: 46.7705\n",
            "Epoch 22/100\n",
            "101/101 [==============================] - 0s 2ms/step - loss: 38.2396 - mse: 38.2396\n",
            "Epoch 23/100\n",
            "101/101 [==============================] - 0s 2ms/step - loss: 33.6050 - mse: 33.6050\n",
            "Epoch 24/100\n",
            "101/101 [==============================] - 0s 2ms/step - loss: 37.4467 - mse: 37.4467\n",
            "Epoch 25/100\n",
            "101/101 [==============================] - 0s 2ms/step - loss: 42.9243 - mse: 42.9243\n",
            "Epoch 26/100\n",
            "101/101 [==============================] - 0s 2ms/step - loss: 36.2702 - mse: 36.2702\n",
            "Epoch 27/100\n",
            "101/101 [==============================] - 0s 2ms/step - loss: 27.4176 - mse: 27.4176\n",
            "Epoch 28/100\n",
            "101/101 [==============================] - 0s 2ms/step - loss: 31.3881 - mse: 31.3881\n",
            "Epoch 29/100\n",
            "101/101 [==============================] - 0s 2ms/step - loss: 38.3801 - mse: 38.3801\n",
            "Epoch 30/100\n",
            "101/101 [==============================] - 0s 2ms/step - loss: 28.0544 - mse: 28.0544\n",
            "Epoch 31/100\n",
            "101/101 [==============================] - 0s 2ms/step - loss: 30.1889 - mse: 30.1889\n",
            "Epoch 32/100\n",
            "101/101 [==============================] - 0s 2ms/step - loss: 31.0841 - mse: 31.0841\n",
            "Epoch 33/100\n",
            "101/101 [==============================] - 0s 2ms/step - loss: 30.0545 - mse: 30.0545\n",
            "Epoch 34/100\n",
            "101/101 [==============================] - 0s 2ms/step - loss: 28.1166 - mse: 28.1166\n",
            "Epoch 35/100\n",
            "101/101 [==============================] - 0s 2ms/step - loss: 30.6828 - mse: 30.6828\n",
            "Epoch 36/100\n",
            "101/101 [==============================] - 0s 2ms/step - loss: 27.1427 - mse: 27.1427\n",
            "Epoch 37/100\n",
            "101/101 [==============================] - 0s 2ms/step - loss: 22.6478 - mse: 22.6478\n",
            "Epoch 38/100\n",
            "101/101 [==============================] - 0s 2ms/step - loss: 27.1610 - mse: 27.1610\n",
            "Epoch 39/100\n",
            "101/101 [==============================] - 0s 2ms/step - loss: 26.0829 - mse: 26.0829\n",
            "Epoch 40/100\n",
            "101/101 [==============================] - 0s 2ms/step - loss: 25.7093 - mse: 25.7093\n",
            "Epoch 41/100\n",
            "101/101 [==============================] - 0s 2ms/step - loss: 20.8223 - mse: 20.8223\n",
            "Epoch 42/100\n",
            "101/101 [==============================] - 0s 2ms/step - loss: 23.2895 - mse: 23.2895\n",
            "Epoch 43/100\n",
            "101/101 [==============================] - 0s 2ms/step - loss: 28.3386 - mse: 28.3386\n",
            "Epoch 44/100\n",
            "101/101 [==============================] - 0s 2ms/step - loss: 21.3986 - mse: 21.3986\n",
            "Epoch 45/100\n",
            "101/101 [==============================] - 0s 2ms/step - loss: 19.8351 - mse: 19.8351\n",
            "Epoch 46/100\n",
            "101/101 [==============================] - 0s 2ms/step - loss: 22.3030 - mse: 22.3030\n",
            "Epoch 47/100\n",
            "101/101 [==============================] - 0s 2ms/step - loss: 21.8073 - mse: 21.8073\n",
            "Epoch 48/100\n",
            "101/101 [==============================] - 0s 2ms/step - loss: 18.1339 - mse: 18.1339\n",
            "Epoch 49/100\n",
            "101/101 [==============================] - 0s 2ms/step - loss: 18.5989 - mse: 18.5989\n",
            "Epoch 50/100\n",
            "101/101 [==============================] - 0s 2ms/step - loss: 17.7148 - mse: 17.7148\n",
            "Epoch 51/100\n",
            "101/101 [==============================] - 0s 2ms/step - loss: 19.8738 - mse: 19.8738\n",
            "Epoch 52/100\n",
            "101/101 [==============================] - 0s 2ms/step - loss: 24.6428 - mse: 24.6428\n",
            "Epoch 53/100\n",
            "101/101 [==============================] - 0s 2ms/step - loss: 18.1539 - mse: 18.1539\n",
            "Epoch 54/100\n",
            "101/101 [==============================] - 0s 2ms/step - loss: 22.0123 - mse: 22.0123\n",
            "Epoch 55/100\n",
            "101/101 [==============================] - 0s 2ms/step - loss: 21.3022 - mse: 21.3022\n",
            "Epoch 56/100\n",
            "101/101 [==============================] - 0s 2ms/step - loss: 18.0283 - mse: 18.0283\n",
            "Epoch 57/100\n",
            "101/101 [==============================] - 0s 2ms/step - loss: 17.9284 - mse: 17.9284\n",
            "Epoch 58/100\n",
            "101/101 [==============================] - 0s 2ms/step - loss: 24.2995 - mse: 24.2995\n",
            "Epoch 59/100\n",
            "101/101 [==============================] - 0s 2ms/step - loss: 21.1715 - mse: 21.1715\n",
            "Epoch 60/100\n",
            "101/101 [==============================] - 0s 2ms/step - loss: 16.5494 - mse: 16.5494\n",
            "Epoch 61/100\n",
            "101/101 [==============================] - 0s 2ms/step - loss: 18.5524 - mse: 18.5524\n",
            "Epoch 62/100\n",
            "101/101 [==============================] - 0s 2ms/step - loss: 17.9266 - mse: 17.9266\n",
            "Epoch 63/100\n",
            "101/101 [==============================] - 0s 2ms/step - loss: 16.7725 - mse: 16.7725\n",
            "Epoch 64/100\n",
            "101/101 [==============================] - 0s 2ms/step - loss: 18.7857 - mse: 18.7857\n",
            "Epoch 65/100\n",
            "101/101 [==============================] - 0s 2ms/step - loss: 21.9618 - mse: 21.9618\n",
            "Epoch 66/100\n",
            "101/101 [==============================] - 0s 2ms/step - loss: 20.9204 - mse: 20.9204\n",
            "Epoch 67/100\n",
            "101/101 [==============================] - 0s 2ms/step - loss: 15.4806 - mse: 15.4806\n",
            "Epoch 68/100\n",
            "101/101 [==============================] - 0s 2ms/step - loss: 17.5782 - mse: 17.5782\n",
            "Epoch 69/100\n",
            "101/101 [==============================] - 0s 2ms/step - loss: 15.0908 - mse: 15.0908\n",
            "Epoch 70/100\n",
            "101/101 [==============================] - 0s 2ms/step - loss: 15.3186 - mse: 15.3186\n",
            "Epoch 71/100\n",
            "101/101 [==============================] - 0s 2ms/step - loss: 17.0259 - mse: 17.0259\n",
            "Epoch 72/100\n",
            "101/101 [==============================] - 0s 2ms/step - loss: 16.2496 - mse: 16.2496\n",
            "Epoch 73/100\n",
            "101/101 [==============================] - 0s 2ms/step - loss: 18.6967 - mse: 18.6967\n",
            "Epoch 74/100\n",
            "101/101 [==============================] - 0s 2ms/step - loss: 15.3571 - mse: 15.3571\n",
            "Epoch 75/100\n",
            "101/101 [==============================] - 0s 2ms/step - loss: 15.3060 - mse: 15.3060\n",
            "Epoch 76/100\n",
            "101/101 [==============================] - 0s 2ms/step - loss: 16.2395 - mse: 16.2395\n",
            "Epoch 77/100\n",
            "101/101 [==============================] - 0s 2ms/step - loss: 15.4414 - mse: 15.4414\n",
            "Epoch 78/100\n",
            "101/101 [==============================] - 0s 2ms/step - loss: 17.4121 - mse: 17.4121\n",
            "Epoch 79/100\n",
            "101/101 [==============================] - 0s 2ms/step - loss: 23.2003 - mse: 23.2003\n",
            "Epoch 80/100\n",
            "101/101 [==============================] - 0s 2ms/step - loss: 14.5453 - mse: 14.5453\n",
            "Epoch 81/100\n",
            "101/101 [==============================] - 0s 2ms/step - loss: 13.8119 - mse: 13.8119\n",
            "Epoch 82/100\n",
            "101/101 [==============================] - 0s 2ms/step - loss: 19.6077 - mse: 19.6077\n",
            "Epoch 83/100\n",
            "101/101 [==============================] - 0s 2ms/step - loss: 17.6259 - mse: 17.6259\n",
            "Epoch 84/100\n",
            "101/101 [==============================] - 0s 2ms/step - loss: 16.6938 - mse: 16.6938\n",
            "Epoch 85/100\n",
            "101/101 [==============================] - 0s 2ms/step - loss: 16.0966 - mse: 16.0966\n",
            "Epoch 86/100\n",
            "101/101 [==============================] - 0s 2ms/step - loss: 13.4812 - mse: 13.4812\n",
            "Epoch 87/100\n",
            "101/101 [==============================] - 0s 2ms/step - loss: 14.9930 - mse: 14.9930\n",
            "Epoch 88/100\n",
            "101/101 [==============================] - 0s 2ms/step - loss: 17.0514 - mse: 17.0514\n",
            "Epoch 89/100\n",
            "101/101 [==============================] - 0s 2ms/step - loss: 14.3263 - mse: 14.3263\n",
            "Epoch 90/100\n",
            "101/101 [==============================] - 0s 2ms/step - loss: 17.3450 - mse: 17.3450\n",
            "Epoch 91/100\n",
            "101/101 [==============================] - 0s 2ms/step - loss: 20.3455 - mse: 20.3455\n",
            "Epoch 92/100\n",
            "101/101 [==============================] - 0s 2ms/step - loss: 15.3584 - mse: 15.3584\n",
            "Epoch 93/100\n",
            "101/101 [==============================] - 0s 2ms/step - loss: 13.0929 - mse: 13.0929\n",
            "Epoch 94/100\n",
            "101/101 [==============================] - 0s 2ms/step - loss: 15.4380 - mse: 15.4380\n",
            "Epoch 95/100\n",
            "101/101 [==============================] - 0s 2ms/step - loss: 15.5867 - mse: 15.5867\n",
            "Epoch 96/100\n",
            "101/101 [==============================] - 0s 2ms/step - loss: 20.8437 - mse: 20.8437\n",
            "Epoch 97/100\n",
            "101/101 [==============================] - 0s 2ms/step - loss: 13.8532 - mse: 13.8532\n",
            "Epoch 98/100\n",
            "101/101 [==============================] - 0s 2ms/step - loss: 23.3444 - mse: 23.3444\n",
            "Epoch 99/100\n",
            "101/101 [==============================] - 0s 2ms/step - loss: 19.7357 - mse: 19.7357\n",
            "Epoch 100/100\n",
            "101/101 [==============================] - 0s 2ms/step - loss: 17.0952 - mse: 17.0952\n"
          ],
          "name": "stdout"
        }
      ]
    },
    {
      "cell_type": "code",
      "metadata": {
        "colab": {
          "base_uri": "https://localhost:8080/"
        },
        "id": "H38YTBariepN",
        "outputId": "f6dc55c4-c83f-4269-b9e0-351d938a6740"
      },
      "source": [
        "model.evaluate(test_data,test_targets)"
      ],
      "execution_count": 42,
      "outputs": [
        {
          "output_type": "stream",
          "text": [
            "4/4 [==============================] - 0s 3ms/step - loss: 12.6808 - mse: 12.6808\n"
          ],
          "name": "stdout"
        },
        {
          "output_type": "execute_result",
          "data": {
            "text/plain": [
              "[12.680828094482422, 12.680828094482422]"
            ]
          },
          "metadata": {
            "tags": []
          },
          "execution_count": 42
        }
      ]
    },
    {
      "cell_type": "code",
      "metadata": {
        "colab": {
          "base_uri": "https://localhost:8080/"
        },
        "id": "AuRgnfirikNu",
        "outputId": "6ace53f8-f3a5-44a8-a2b1-1c0ab776c977"
      },
      "source": [
        "model.predict(test_data[5:7])"
      ],
      "execution_count": 101,
      "outputs": [
        {
          "output_type": "execute_result",
          "data": {
            "text/plain": [
              "array([[19.936472],\n",
              "       [30.262636]], dtype=float32)"
            ]
          },
          "metadata": {
            "tags": []
          },
          "execution_count": 101
        }
      ]
    },
    {
      "cell_type": "code",
      "metadata": {
        "colab": {
          "base_uri": "https://localhost:8080/"
        },
        "id": "pqeWEmeyitW6",
        "outputId": "9214c986-d6dd-4713-ea68-9153cf1caf1b"
      },
      "source": [
        "test_targets[6]"
      ],
      "execution_count": 103,
      "outputs": [
        {
          "output_type": "execute_result",
          "data": {
            "text/plain": [
              "31.2"
            ]
          },
          "metadata": {
            "tags": []
          },
          "execution_count": 103
        }
      ]
    },
    {
      "cell_type": "markdown",
      "metadata": {
        "id": "icd4l7qpialt"
      },
      "source": [
        "## pyTorch Model"
      ]
    },
    {
      "cell_type": "code",
      "metadata": {
        "id": "-xTnKHm4xU0N"
      },
      "source": [
        "#nn depends on autograd to define models and differentiate them. An nn.Module contains layers, and a method forward(input) that returns the output.\n",
        "import torch\n",
        "import torch.nn as nn\n",
        "import torch.nn.functional as F\n",
        "\n",
        "\n",
        "class Net(nn.Module):\n",
        "\n",
        "    def __init__(self):\n",
        "        super(Net, self).__init__()\n",
        "        \n",
        "        # an affine operation: y = Wx + b\n",
        "        self.fc1 = nn.Linear(13, 64)  # 13 feature dimension\n",
        "        self.fc2 = nn.Linear(64, 64)\n",
        "        self.fc3 = nn.Linear(64,1)\n",
        "        \n",
        "    def forward(self, x):\n",
        "        x = F.relu(self.fc1(x))\n",
        "        x = F.relu(self.fc2(x))\n",
        "        x = self.fc3(x)\n",
        "        return x"
      ],
      "execution_count": 45,
      "outputs": []
    },
    {
      "cell_type": "code",
      "metadata": {
        "colab": {
          "base_uri": "https://localhost:8080/"
        },
        "id": "JPILu2CGypkC",
        "outputId": "5821eb7a-b8d2-42f4-cde6-47e82a045fbc"
      },
      "source": [
        "model = Net()\n",
        "print(model)"
      ],
      "execution_count": 46,
      "outputs": [
        {
          "output_type": "stream",
          "text": [
            "Net(\n",
            "  (fc1): Linear(in_features=13, out_features=64, bias=True)\n",
            "  (fc2): Linear(in_features=64, out_features=64, bias=True)\n",
            "  (fc3): Linear(in_features=64, out_features=1, bias=True)\n",
            ")\n"
          ],
          "name": "stdout"
        }
      ]
    },
    {
      "cell_type": "code",
      "metadata": {
        "colab": {
          "base_uri": "https://localhost:8080/"
        },
        "id": "Hoym4QnMy9j2",
        "outputId": "272ad7d6-3d19-4465-8691-5d9a3fa2b721"
      },
      "source": [
        "params = list(model.parameters()) # Each layer contains Weight and Biases\n",
        "print(len(params))\n",
        "print(params[0].shape) \n"
      ],
      "execution_count": 47,
      "outputs": [
        {
          "output_type": "stream",
          "text": [
            "6\n",
            "torch.Size([64, 13])\n"
          ],
          "name": "stdout"
        }
      ]
    },
    {
      "cell_type": "code",
      "metadata": {
        "colab": {
          "base_uri": "https://localhost:8080/"
        },
        "id": "7hklQctAzA9O",
        "outputId": "1c1f5c9b-3445-4d8b-e22d-12c01cc16707"
      },
      "source": [
        "print(params[0].requires_grad)\n",
        "print(params[0].dtype)\n",
        "print(type(params[0]))"
      ],
      "execution_count": 48,
      "outputs": [
        {
          "output_type": "stream",
          "text": [
            "True\n",
            "torch.float32\n",
            "<class 'torch.nn.parameter.Parameter'>\n"
          ],
          "name": "stdout"
        }
      ]
    },
    {
      "cell_type": "code",
      "metadata": {
        "id": "J5FlxI-i1sGj"
      },
      "source": [
        "tensor_train_data = torch.from_numpy(train_data)\n",
        "tensor_train_targets = torch.from_numpy(train_targets)\n"
      ],
      "execution_count": 49,
      "outputs": []
    },
    {
      "cell_type": "code",
      "metadata": {
        "id": "lmKq03Jy31gH"
      },
      "source": [
        "tensor_train_targets= tensor_train_targets.view((404,1))"
      ],
      "execution_count": 50,
      "outputs": []
    },
    {
      "cell_type": "code",
      "metadata": {
        "colab": {
          "base_uri": "https://localhost:8080/"
        },
        "id": "s5R9Ocns173i",
        "outputId": "3b0ae8a0-1001-4a73-df69-59c401d3bf59"
      },
      "source": [
        "out = model(tensor_train_data.float())\n",
        "print(out.shape)"
      ],
      "execution_count": 51,
      "outputs": [
        {
          "output_type": "stream",
          "text": [
            "torch.Size([404, 1])\n"
          ],
          "name": "stdout"
        }
      ]
    },
    {
      "cell_type": "code",
      "metadata": {
        "id": "ayzY-ZJk2GJE"
      },
      "source": [
        "Criterion = torch.nn.MSELoss()\n",
        "optimizer = torch.optim.RMSprop(model.parameters())\n"
      ],
      "execution_count": 52,
      "outputs": []
    },
    {
      "cell_type": "code",
      "metadata": {
        "id": "AGxyvNKb2Lyj"
      },
      "source": [
        "loss = Criterion(out, tensor_train_targets.float() )"
      ],
      "execution_count": 53,
      "outputs": []
    },
    {
      "cell_type": "code",
      "metadata": {
        "id": "9j7Nd4M57Wni"
      },
      "source": [
        "dataset = torch.utils.data.TensorDataset(tensor_train_data, tensor_train_targets)\n"
      ],
      "execution_count": 54,
      "outputs": []
    },
    {
      "cell_type": "code",
      "metadata": {
        "id": "tQwVO8TO9INP"
      },
      "source": [
        "trainloader = torch.utils.data.DataLoader(dataset, batch_size=4,shuffle=True)"
      ],
      "execution_count": 55,
      "outputs": []
    },
    {
      "cell_type": "code",
      "metadata": {
        "colab": {
          "base_uri": "https://localhost:8080/"
        },
        "id": "5QdfTdAw9q5U",
        "outputId": "d46578e6-c0bd-4ca5-ad86-604393340c4e"
      },
      "source": [
        "for epoch in range(100):  # loop over the dataset multiple times\n",
        "\n",
        "    running_loss = 0.0\n",
        "    for i, data in enumerate(trainloader, 0):\n",
        "        # get the inputs; data is a list of [inputs, labels]\n",
        "        inputs, labels = data\n",
        "\n",
        "        # zero the parameter gradients\n",
        "        optimizer.zero_grad()\n",
        "\n",
        "        # forward + backward + optimize\n",
        "        outputs =model(inputs.float())\n",
        "        loss = Criterion(outputs, labels.float())\n",
        "        loss.backward()\n",
        "        optimizer.step()\n",
        "\n",
        "        # print statistics\n",
        "        running_loss += loss.item()\n",
        "        if i % 101 == 100:    # print every 2000 mini-batches\n",
        "            print('[%d, %5d] loss: %.3f' %\n",
        "                  (epoch + 1, i + 1, running_loss / 101))\n",
        "            running_loss = 0.0\n",
        "      \n",
        "\n",
        "print('Finished Training')\n"
      ],
      "execution_count": 56,
      "outputs": [
        {
          "output_type": "stream",
          "text": [
            "[1,   101] loss: 78.432\n",
            "[2,   101] loss: 18.495\n",
            "[3,   101] loss: 17.509\n",
            "[4,   101] loss: 17.206\n",
            "[5,   101] loss: 16.337\n",
            "[6,   101] loss: 15.303\n",
            "[7,   101] loss: 16.745\n",
            "[8,   101] loss: 14.691\n",
            "[9,   101] loss: 14.048\n",
            "[10,   101] loss: 14.847\n",
            "[11,   101] loss: 12.403\n",
            "[12,   101] loss: 10.982\n",
            "[13,   101] loss: 14.589\n",
            "[14,   101] loss: 9.358\n",
            "[15,   101] loss: 14.457\n",
            "[16,   101] loss: 10.647\n",
            "[17,   101] loss: 11.410\n",
            "[18,   101] loss: 11.863\n",
            "[19,   101] loss: 10.675\n",
            "[20,   101] loss: 9.730\n",
            "[21,   101] loss: 10.887\n",
            "[22,   101] loss: 10.237\n",
            "[23,   101] loss: 10.924\n",
            "[24,   101] loss: 10.314\n",
            "[25,   101] loss: 9.279\n",
            "[26,   101] loss: 8.366\n",
            "[27,   101] loss: 7.586\n",
            "[28,   101] loss: 10.110\n",
            "[29,   101] loss: 8.661\n",
            "[30,   101] loss: 8.857\n",
            "[31,   101] loss: 8.073\n",
            "[32,   101] loss: 7.731\n",
            "[33,   101] loss: 9.442\n",
            "[34,   101] loss: 8.106\n",
            "[35,   101] loss: 8.097\n",
            "[36,   101] loss: 7.034\n",
            "[37,   101] loss: 10.409\n",
            "[38,   101] loss: 6.828\n",
            "[39,   101] loss: 7.440\n",
            "[40,   101] loss: 6.462\n",
            "[41,   101] loss: 7.952\n",
            "[42,   101] loss: 5.986\n",
            "[43,   101] loss: 7.007\n",
            "[44,   101] loss: 6.687\n",
            "[45,   101] loss: 6.117\n",
            "[46,   101] loss: 6.524\n",
            "[47,   101] loss: 5.462\n",
            "[48,   101] loss: 5.098\n",
            "[49,   101] loss: 7.244\n",
            "[50,   101] loss: 6.453\n",
            "[51,   101] loss: 6.757\n",
            "[52,   101] loss: 5.272\n",
            "[53,   101] loss: 6.156\n",
            "[54,   101] loss: 5.405\n",
            "[55,   101] loss: 6.499\n",
            "[56,   101] loss: 5.829\n",
            "[57,   101] loss: 6.284\n",
            "[58,   101] loss: 5.053\n",
            "[59,   101] loss: 5.918\n",
            "[60,   101] loss: 5.431\n",
            "[61,   101] loss: 4.752\n",
            "[62,   101] loss: 4.956\n",
            "[63,   101] loss: 4.885\n",
            "[64,   101] loss: 4.530\n",
            "[65,   101] loss: 4.693\n",
            "[66,   101] loss: 6.390\n",
            "[67,   101] loss: 4.642\n",
            "[68,   101] loss: 4.467\n",
            "[69,   101] loss: 4.716\n",
            "[70,   101] loss: 5.041\n",
            "[71,   101] loss: 4.647\n",
            "[72,   101] loss: 4.631\n",
            "[73,   101] loss: 4.056\n",
            "[74,   101] loss: 5.425\n",
            "[75,   101] loss: 4.622\n",
            "[76,   101] loss: 4.344\n",
            "[77,   101] loss: 4.349\n",
            "[78,   101] loss: 4.324\n",
            "[79,   101] loss: 4.721\n",
            "[80,   101] loss: 3.869\n",
            "[81,   101] loss: 5.234\n",
            "[82,   101] loss: 3.449\n",
            "[83,   101] loss: 3.727\n",
            "[84,   101] loss: 4.139\n",
            "[85,   101] loss: 4.095\n",
            "[86,   101] loss: 3.700\n",
            "[87,   101] loss: 6.283\n",
            "[88,   101] loss: 5.010\n",
            "[89,   101] loss: 3.906\n",
            "[90,   101] loss: 3.490\n",
            "[91,   101] loss: 3.181\n",
            "[92,   101] loss: 4.134\n",
            "[93,   101] loss: 4.145\n",
            "[94,   101] loss: 3.869\n",
            "[95,   101] loss: 4.223\n",
            "[96,   101] loss: 3.374\n",
            "[97,   101] loss: 3.556\n",
            "[98,   101] loss: 4.308\n",
            "[99,   101] loss: 3.650\n",
            "[100,   101] loss: 3.653\n",
            "Finished Training\n"
          ],
          "name": "stdout"
        }
      ]
    },
    {
      "cell_type": "code",
      "metadata": {
        "colab": {
          "base_uri": "https://localhost:8080/"
        },
        "id": "CJDYvO1f94mc",
        "outputId": "f5f5a98e-c1e5-40af-90f1-07dab9585b7f"
      },
      "source": [
        "tensor_test_data = torch.from_numpy(test_data)\n",
        "tensor_test_data = tensor_test_data.float()\n",
        "print(model(tensor_test_data[5]))"
      ],
      "execution_count": 57,
      "outputs": [
        {
          "output_type": "stream",
          "text": [
            "tensor([22.9501], grad_fn=<AddBackward0>)\n"
          ],
          "name": "stdout"
        }
      ]
    },
    {
      "cell_type": "code",
      "metadata": {
        "colab": {
          "base_uri": "https://localhost:8080/"
        },
        "id": "Wy_SdnfgZu-6",
        "outputId": "f7282c06-9240-4706-d2e9-7107d08c3c45"
      },
      "source": [
        "print(test_targets[5])"
      ],
      "execution_count": 106,
      "outputs": [
        {
          "output_type": "stream",
          "text": [
            "24.5\n"
          ],
          "name": "stdout"
        }
      ]
    }
  ]
}
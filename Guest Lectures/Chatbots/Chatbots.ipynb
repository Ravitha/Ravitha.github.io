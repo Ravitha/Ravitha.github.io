{
  "nbformat": 4,
  "nbformat_minor": 0,
  "metadata": {
    "colab": {
      "name": "Chatbots",
      "provenance": [],
      "collapsed_sections": [
        "l2SxkzH2wcdq"
      ],
      "toc_visible": true
    },
    "kernelspec": {
      "name": "python3",
      "display_name": "Python 3"
    }
  },
  "cells": [
    {
      "cell_type": "markdown",
      "metadata": {
        "id": "KH9UJBDzEg_j",
        "colab_type": "text"
      },
      "source": [
        "# Scripted Chatbots\n",
        "![Rule based bot](https://theappsolutions.com/images/articles/source/chatbot-for-travel-business/rule-based-catbots.png)\n",
        "\n",
        "Chatbots typically follow ** Query Response Model**. Pattern Matching  helps the bots in a great way to handle the incoming requests from the user and providing an appropriate response . Interactions can also be structured as shown in the Figure below. Here, the user is provided with list of services offered by the company. Henceforth, Structuring the interaction will help in yielding better responses"
      ]
    },
    {
      "cell_type": "markdown",
      "metadata": {
        "id": "pznCZXOOGaZd",
        "colab_type": "text"
      },
      "source": [
        "## Task 1: Lets Implement a simple greeting bot\n",
        "\n",
        "It checks whether a incoming request is a greeting by string matching technique.\n",
        "List of greeting words are stored. Incoming request is searched for the presence of a greeting word. If present, the bot provides a greeting response.\n",
        "<br/>\n",
        "![Greeting Bot](https://images.twinkl.co.uk/tw1n/image/private/t_630/image_repo/7b/2f/T-S-1961-Social-Greetings-Prompt-Cards.jpg)\n",
        "\n",
        "\n"
      ]
    },
    {
      "cell_type": "code",
      "metadata": {
        "id": "v7Jlz3WCIcXA",
        "colab_type": "code",
        "colab": {}
      },
      "source": [
        "import random\n",
        "\n",
        "GREETING_KEYWORDS = [\"hello\", \"hi\", \"morning\", \"whats up\", \"greetings\"]\n",
        "GREETING_RESPONSE = [\"let ur day be as bright as your sun\", \"hello\", \"have a pleasant day\"]\n",
        "def check_for_greeting(sentence):\n",
        "  words = sentence.split(' ')\n",
        "  for word in words:\n",
        "    if word.lower() in GREETING_KEYWORDS:\n",
        "      return random.choice(GREETING_RESPONSE)\n",
        "  return \"I don't understand\""
      ],
      "execution_count": 0,
      "outputs": []
    },
    {
      "cell_type": "code",
      "metadata": {
        "id": "mDtfjdy6Hs2T",
        "colab_type": "code",
        "outputId": "ddd652b9-e5be-4c5d-cf51-9b628e01da33",
        "colab": {
          "base_uri": "https://localhost:8080/",
          "height": 36
        }
      },
      "source": [
        "# Write a statement and check the response from the greeting bot\n",
        "input_query=\"hi have a good day\"\n",
        "print(check_for_greeting(input_query))"
      ],
      "execution_count": 0,
      "outputs": [
        {
          "output_type": "stream",
          "text": [
            "have a pleasant day\n"
          ],
          "name": "stdout"
        }
      ]
    },
    {
      "cell_type": "markdown",
      "metadata": {
        "id": "ateITlORJe_z",
        "colab_type": "text"
      },
      "source": [
        "## Task 2: Eliza\n",
        "\n",
        "Integral component of Eliza is pattern matching.\n",
        "<br/>\n",
        "Regular expression are used for extracted key components in the incoming request which then used in providing an appropriate response![alt text](https://miro.medium.com/max/2702/0*sawrTdROOtCkFSXA.)"
      ]
    },
    {
      "cell_type": "code",
      "metadata": {
        "id": "ZRxG46a0Jert",
        "colab_type": "code",
        "outputId": "77a6470f-5e19-447b-f0f9-4d6135a103ee",
        "colab": {
          "base_uri": "https://localhost:8080/",
          "height": 36
        }
      },
      "source": [
        "import re\n",
        "pattern ='What if(.*)' # In regular expression . indicates any character * indicates one (or) more occurence of the same character\n",
        "message = 'What if i ask you for help'\n",
        "\n",
        "# search method in regular expression will help in identifying whether the pattern occurs in the message\n",
        "# it returns a match object which is None when the pattern is not present in the message\n",
        "\n",
        "match = re.match(pattern, message)\n",
        "print(match)"
      ],
      "execution_count": 0,
      "outputs": [
        {
          "output_type": "stream",
          "text": [
            "<_sre.SRE_Match object; span=(0, 26), match='What if i ask you for help'>\n"
          ],
          "name": "stdout"
        }
      ]
    },
    {
      "cell_type": "code",
      "metadata": {
        "id": "S6MgD4gwM6DC",
        "colab_type": "code",
        "colab": {}
      },
      "source": [
        "# Function enables the message to be verified against series of patterns\n",
        "# returns the first pattern to which message confirms\n",
        "# If the pattern is not found, it returns None\n",
        "def verify (message):\n",
        "  patterns = ['heelo wo.*', 'unicode .*']\n",
        "  for i in patterns:\n",
        "    match = re.match(i, message)\n",
        "    if match:\n",
        "      return i\n",
        "  return None"
      ],
      "execution_count": 0,
      "outputs": []
    },
    {
      "cell_type": "code",
      "metadata": {
        "id": "_TiHvfr022tt",
        "colab_type": "code",
        "outputId": "08931cc0-8b3e-4b0b-d131-f08f597480c9",
        "colab": {
          "base_uri": "https://localhost:8080/",
          "height": 52
        }
      },
      "source": [
        "print(verify('heelo world'))\n",
        "print(verify('h'))"
      ],
      "execution_count": 0,
      "outputs": [
        {
          "output_type": "stream",
          "text": [
            "heelo wo.*\n",
            "None\n"
          ],
          "name": "stdout"
        }
      ]
    },
    {
      "cell_type": "markdown",
      "metadata": {
        "id": "JuzXMZbELiP5",
        "colab_type": "text"
      },
      "source": [
        "*match method* checks and returns whether the message conforms to a given pattern. More than matching patterns, it is also important to extract key phrases in the message.<br/>\n",
        "\n",
        "**Eliza uses the key phrases to create the meaningful responses**\n",
        "<br/>\n",
        "\n",
        "\n",
        "*   To extract key phrases, Groups are used in regular expression.\n",
        "*   Adding paranthesis in the pattern indicates a group.\n",
        "\n",
        "\n",
        "\n"
      ]
    },
    {
      "cell_type": "code",
      "metadata": {
        "id": "FaCuoztV3WC9",
        "colab_type": "code",
        "outputId": "011df2a0-eefe-4c94-f8ff-6f8c29ae4dc6",
        "colab": {
          "base_uri": "https://localhost:8080/",
          "height": 73
        }
      },
      "source": [
        "# The following pattern can be used to identify the series of characters that occur before if and after if in a message\n",
        "pattern = '(.*) if (.*)'\n",
        "message = 'God if win Demon if fail'\n",
        "\n",
        "match = re.search(pattern, message)\n",
        "# group (0) will provide the entire message\n",
        "# group (1) will extract the characters before if\n",
        "# group (2) will extract the characters after if\n",
        "\n",
        "print(match.group(0))\n",
        "print(match.group(1))\n",
        "print(match.group(2))\n",
        "\n"
      ],
      "execution_count": 0,
      "outputs": [
        {
          "output_type": "stream",
          "text": [
            "God if win Demon if fail\n",
            "God if win Demon\n",
            "fail\n"
          ],
          "name": "stdout"
        }
      ]
    },
    {
      "cell_type": "markdown",
      "metadata": {
        "id": "xDGlzJJj5Rsp",
        "colab_type": "text"
      },
      "source": [
        "Next important concept in Eliza is **Grammatical Transformation** of the key phrases extracted. To make the responses grammatically coherent, first and second person to be transformed\n",
        "\n",
        "In English, this can easily be achieved using conjugative verbs"
      ]
    },
    {
      "cell_type": "markdown",
      "metadata": {
        "id": "8xJ4H7JKPXVI",
        "colab_type": "text"
      },
      "source": [
        "Following method replace the pronouns upon invocation with the extracted key phrases\n",
        "\n",
        "me -> you\n",
        "<br/>\n",
        "my -> your\n",
        "<br/>\n",
        "your -> my\n",
        "<br/>\n",
        "you -> me\n",
        "<br/>\n",
        "\n"
      ]
    },
    {
      "cell_type": "code",
      "metadata": {
        "id": "U2iMDu286sw1",
        "colab_type": "code",
        "colab": {}
      },
      "source": [
        "def replace_pronouns(message): \n",
        "  message = message.lower()\n",
        "  if 'me' in message: \n",
        "    # sub method replace the occurence of str1 with str2 in the given message\n",
        "    message = re.sub('me','you',message) \n",
        "    return message \n",
        "  if 'my' in message:\n",
        "    message = re.sub('my','your',message) \n",
        "    return message \n",
        "  if 'your' in message: \n",
        "    message = re.sub('your','my',message) \n",
        "    return message \n",
        "  if 'you' in message: \n",
        "    message = re.sub('you','me',message) \n",
        "    return message \n",
        "  return message "
      ],
      "execution_count": 0,
      "outputs": []
    },
    {
      "cell_type": "code",
      "metadata": {
        "id": "v1eD9F7eP54W",
        "colab_type": "code",
        "outputId": "027dc300-62ee-41d5-a70f-8354da70f662",
        "colab": {
          "base_uri": "https://localhost:8080/",
          "height": 73
        }
      },
      "source": [
        "print(replace_pronouns(\"my last birthday\")) \n",
        "print(replace_pronouns(\"when you went to Florida\")) \n",
        "print(replace_pronouns(\"I had my own castle\")) "
      ],
      "execution_count": 0,
      "outputs": [
        {
          "output_type": "stream",
          "text": [
            "your last birthday\n",
            "when me went to florida\n",
            "i had your own castle\n"
          ],
          "name": "stdout"
        }
      ]
    },
    {
      "cell_type": "markdown",
      "metadata": {
        "id": "8cC24ZLTQziV",
        "colab_type": "text"
      },
      "source": [
        "### Building a Complete Model\n",
        "\n",
        "---\n",
        "\n",
        "\n",
        "\n",
        "\n",
        "1.   Match Rules\n",
        "2.   Replace Pronouns\n",
        "3.   Compose Reply\n",
        "\n"
      ]
    },
    {
      "cell_type": "code",
      "metadata": {
        "id": "efoNYCVqQzMp",
        "colab_type": "code",
        "colab": {}
      },
      "source": [
        "# Creating a dict with many patterns\n",
        "rules = {'if(.*)' : ['Do you really think its likely that {0}','What do you think about {0}','Really- if {0}'],\n",
        "         'do you think (.*)' :['If {0} ?Absolutely.', 'No chance'],\n",
        "         'I want (.*)': ['Why do you want {0}','Whats stopping you from getting {0}','What would it mean if you got {0}'],\n",
        "         'do you remember (.*)': ['Did you think I would forget {0}', 'Why havent you been able to forget {0}','What about {0}','Yes.. And ?']\n",
        "         }\n",
        "\n",
        "def match_rule(rules, message): \n",
        "    response, phrase = \"default\", None \n",
        "    # Iterate over the rules dictionary \n",
        "    for pattern,responses in rules.items(): \n",
        "        # Create a match object \n",
        "        match = re.search(pattern, message) \n",
        "        if match is not None: \n",
        "            response = random.choice(responses) \n",
        "            # Choose a random response \n",
        "            if '{0}' in response: \n",
        "                phrase = match.group(1) \n",
        "    # Return the response and phrase \n",
        "    return response, phrase "
      ],
      "execution_count": 0,
      "outputs": []
    },
    {
      "cell_type": "code",
      "metadata": {
        "id": "oCdHcVeiQEVZ",
        "colab_type": "code",
        "outputId": "36b702b7-9145-4298-83ef-2706ff9f4f6e",
        "colab": {
          "base_uri": "https://localhost:8080/",
          "height": 54
        }
      },
      "source": [
        "print(match_rule(rules, \"do you remember your last birthday\")) \n",
        "print(match_rule(rules,\"how are you?\"))"
      ],
      "execution_count": 0,
      "outputs": [
        {
          "output_type": "stream",
          "text": [
            "('Did you think I would forget {0}', 'your last birthday')\n",
            "('default', None)\n"
          ],
          "name": "stdout"
        }
      ]
    },
    {
      "cell_type": "code",
      "metadata": {
        "id": "n8BjRMvQS-db",
        "colab_type": "code",
        "colab": {}
      },
      "source": [
        "## Composing the reply\n",
        "## match_rule will provide the response pattern and extracted key phrase\n",
        "## then replace pronoun is called for grammatical transformation\n",
        "## if the returning response pattern from match rule is default then a standard response is offered\n",
        "## else, the output of replace pronoun is used to modify the response pattern suitably\n",
        "\n",
        "def respond(message):\n",
        "  response, phrase = match_rule(rules, message)\n",
        "  standard_responses = [\"Tell me more\", \"I donot Understand\", \"How can i help you?\"]\n",
        "  if response == 'default':\n",
        "    return random.choice(standard_responses)\n",
        "  else:\n",
        "    modified_phrase = replace_pronouns(phrase)\n",
        "    response = response.format(modified_phrase)\n",
        "  return response"
      ],
      "execution_count": 0,
      "outputs": []
    },
    {
      "cell_type": "code",
      "metadata": {
        "id": "2GgM44ozTrOL",
        "colab_type": "code",
        "outputId": "0629bfa1-64c1-4b1b-ee0e-e687d7294158",
        "colab": {
          "base_uri": "https://localhost:8080/",
          "height": 36
        }
      },
      "source": [
        "print(respond(\"do you remember your last birthday\"))"
      ],
      "execution_count": 0,
      "outputs": [
        {
          "output_type": "stream",
          "text": [
            "Why havent you been able to forget my last birthday\n"
          ],
          "name": "stdout"
        }
      ]
    },
    {
      "cell_type": "code",
      "metadata": {
        "id": "EIVEmI58WD23",
        "colab_type": "code",
        "outputId": "8bec5b9c-046a-4b74-dc69-db40f44dd4ee",
        "colab": {
          "base_uri": "https://localhost:8080/",
          "height": 36
        }
      },
      "source": [
        "print(respond(\"I want a robot friend\"))"
      ],
      "execution_count": 0,
      "outputs": [
        {
          "output_type": "stream",
          "text": [
            "Why do you want a robot friend\n"
          ],
          "name": "stdout"
        }
      ]
    },
    {
      "cell_type": "code",
      "metadata": {
        "id": "DVqHO_IDWPJP",
        "colab_type": "code",
        "outputId": "c1d66096-9e7a-48e5-f961-5290895ee780",
        "colab": {
          "base_uri": "https://localhost:8080/",
          "height": 36
        }
      },
      "source": [
        "print(respond(\"why cars have four tyres\"))"
      ],
      "execution_count": 0,
      "outputs": [
        {
          "output_type": "stream",
          "text": [
            "I donot Understand\n"
          ],
          "name": "stdout"
        }
      ]
    },
    {
      "cell_type": "markdown",
      "metadata": {
        "id": "AbUdpaRbWv0D",
        "colab_type": "text"
      },
      "source": [
        "# Intent Recognizers\n",
        "\n",
        "---\n",
        "\n",
        "\n",
        " From the natural language statements, infer the intent (or) the command of the user to the bot\n",
        "\n",
        " To understand the working of intent recognizers, let us consider the airline travel information system\n",
        "\n",
        "The system provides services to book tickets, obtain flight related information, understand the air fare etc"
      ]
    },
    {
      "cell_type": "code",
      "metadata": {
        "id": "KeuF4kuoWlck",
        "colab_type": "code",
        "colab": {}
      },
      "source": [
        "# spacy is an advanced natural language processing in python\n",
        "# it has pretrained statistical models and word vectors for language modeling\n",
        "import spacy"
      ],
      "execution_count": 0,
      "outputs": []
    },
    {
      "cell_type": "code",
      "metadata": {
        "id": "7Slc_88zWugT",
        "colab_type": "code",
        "colab": {}
      },
      "source": [
        "# The dataset has a pickle file Which contains various user commands and intents\n",
        "# They are available as vectors of numbers\n",
        "# To decipher the numbers, dict which maps the numbers with tokens are provided\n",
        "import pickle\n",
        "def load_ds(fname='atis.train.pkl'):\n",
        "  with open(fname,'rb') as stream:\n",
        "    ds,dicts = pickle.load(stream)\n",
        "  return ds,dicts"
      ],
      "execution_count": 0,
      "outputs": []
    },
    {
      "cell_type": "code",
      "metadata": {
        "id": "fI4tWbO1m5V9",
        "colab_type": "code",
        "outputId": "b30083e5-821e-4ee6-f313-6ae2cea6f89d",
        "colab": {
          "base_uri": "https://localhost:8080/",
          "height": 54
        }
      },
      "source": [
        "train_ds, dicts = load_ds('/content/atis.train.pkl')\n",
        "print(type(train_ds))\n",
        "print(type(dicts))"
      ],
      "execution_count": 0,
      "outputs": [
        {
          "output_type": "stream",
          "text": [
            "<class 'collections.defaultdict'>\n",
            "<class 'dict'>\n"
          ],
          "name": "stdout"
        }
      ]
    },
    {
      "cell_type": "code",
      "metadata": {
        "id": "6GVnA_YknCne",
        "colab_type": "code",
        "outputId": "cab48b1c-254e-47be-c3df-19a6e04d95f4",
        "colab": {
          "base_uri": "https://localhost:8080/",
          "height": 56
        }
      },
      "source": [
        "# tokens - words\n",
        "# slot - entities\n",
        "# intent\n",
        "t2i, s2i, in2i = map(dicts.get, ['token_ids', 'slot_ids','intent_ids'])\n",
        "print(in2i)"
      ],
      "execution_count": 0,
      "outputs": [
        {
          "output_type": "stream",
          "text": [
            "{'abbreviation': 0, 'aircraft': 1, 'aircraft+flight+flight_no': 2, 'airfare': 3, 'airfare+flight': 4, 'airfare+flight_time': 5, 'airline': 6, 'airline+flight_no': 7, 'airport': 8, 'capacity': 9, 'cheapest': 10, 'city': 11, 'day_name': 12, 'distance': 13, 'flight': 14, 'flight+airfare': 15, 'flight+airline': 16, 'flight_no': 17, 'flight_no+airline': 18, 'flight_time': 19, 'ground_fare': 20, 'ground_service': 21, 'ground_service+ground_fare': 22, 'meal': 23, 'quantity': 24, 'restriction': 25}\n"
          ],
          "name": "stdout"
        }
      ]
    },
    {
      "cell_type": "code",
      "metadata": {
        "id": "-LSA_kX8nkgE",
        "colab_type": "code",
        "outputId": "081a8209-a75d-4b17-d300-393c86313147",
        "colab": {
          "base_uri": "https://localhost:8080/",
          "height": 56
        }
      },
      "source": [
        "i2t, i2s, i2in = map(lambda d: {d[k]:k for k in d.keys()}, [t2i,s2i,in2i])\n",
        "print(i2in)"
      ],
      "execution_count": 0,
      "outputs": [
        {
          "output_type": "stream",
          "text": [
            "{0: 'abbreviation', 1: 'aircraft', 2: 'aircraft+flight+flight_no', 3: 'airfare', 4: 'airfare+flight', 5: 'airfare+flight_time', 6: 'airline', 7: 'airline+flight_no', 8: 'airport', 9: 'capacity', 10: 'cheapest', 11: 'city', 12: 'day_name', 13: 'distance', 14: 'flight', 15: 'flight+airfare', 16: 'flight+airline', 17: 'flight_no', 18: 'flight_no+airline', 19: 'flight_time', 20: 'ground_fare', 21: 'ground_service', 22: 'ground_service+ground_fare', 23: 'meal', 24: 'quantity', 25: 'restriction'}\n"
          ],
          "name": "stdout"
        }
      ]
    },
    {
      "cell_type": "code",
      "metadata": {
        "id": "TPEDX28joVHs",
        "colab_type": "code",
        "colab": {}
      },
      "source": [
        "query, slots, intent =  map(train_ds.get, ['query', 'slot_labels', 'intent_labels'])"
      ],
      "execution_count": 0,
      "outputs": []
    },
    {
      "cell_type": "code",
      "metadata": {
        "id": "R64fHspHojHz",
        "colab_type": "code",
        "colab": {}
      },
      "source": [
        "# Creating a Training set\n",
        "# Samples and their corresponding labels are stored in separate arrays\n",
        "sample = []\n",
        "labels = []\n",
        "for i in range(4978):\n",
        "    sentence = (' '.join(map(i2t.get, query[i])))\n",
        "    sample.append(sentence)\n",
        "    labels.append(i2in[intent[i][0]])"
      ],
      "execution_count": 0,
      "outputs": []
    },
    {
      "cell_type": "code",
      "metadata": {
        "id": "decB-jZhtMlq",
        "colab_type": "code",
        "outputId": "ee51c884-ac95-42b9-b1a7-c7288d3dce08",
        "colab": {
          "base_uri": "https://localhost:8080/",
          "height": 54
        }
      },
      "source": [
        "print(len(sample))\n",
        "print(len(labels))"
      ],
      "execution_count": 0,
      "outputs": [
        {
          "output_type": "stream",
          "text": [
            "4978\n",
            "4978\n"
          ],
          "name": "stdout"
        }
      ]
    },
    {
      "cell_type": "code",
      "metadata": {
        "id": "A3bW7RUetkjr",
        "colab_type": "code",
        "outputId": "a1f41eb3-2fac-4b8b-d3e8-655d06248df5",
        "colab": {
          "base_uri": "https://localhost:8080/",
          "height": 54
        }
      },
      "source": [
        "# User Command and their intent\n",
        "print(sample[419])\n",
        "print(labels[419])"
      ],
      "execution_count": 0,
      "outputs": [
        {
          "output_type": "stream",
          "text": [
            "BOS what airplane types fly from pittsburgh to baltimore EOS\n",
            "aircraft\n"
          ],
          "name": "stdout"
        }
      ]
    },
    {
      "cell_type": "markdown",
      "metadata": {
        "id": "4jplbAT0v4f2",
        "colab_type": "text"
      },
      "source": [
        "### Task 3: Creating a Supervised Machine Learning Model to recognize the intent of the bot"
      ]
    },
    {
      "cell_type": "code",
      "metadata": {
        "id": "DsLcVHw4v3ez",
        "colab_type": "code",
        "outputId": "ba124d59-360e-451d-9f61-5ef17d31bd95",
        "colab": {
          "base_uri": "https://localhost:8080/",
          "height": 259
        }
      },
      "source": [
        "# The statements cannot be understand directly from the machine learning model\n",
        "# words have to be converted into vectors\n",
        "# spacy has word vectors for every possible word in thesaurus constructed using glove algorithm\n",
        "# Each word is coded as three hundred dimensional vector\n",
        "!python -m spacy download en_core_web_lg\n"
      ],
      "execution_count": 0,
      "outputs": [
        {
          "output_type": "stream",
          "text": [
            "Collecting en_core_web_lg==2.1.0\n",
            "\u001b[?25l  Downloading https://github.com/explosion/spacy-models/releases/download/en_core_web_lg-2.1.0/en_core_web_lg-2.1.0.tar.gz (826.9MB)\n",
            "\u001b[K     |████████████████████████████████| 826.9MB 1.1MB/s \n",
            "\u001b[?25hBuilding wheels for collected packages: en-core-web-lg\n",
            "  Building wheel for en-core-web-lg (setup.py) ... \u001b[?25l\u001b[?25hdone\n",
            "  Created wheel for en-core-web-lg: filename=en_core_web_lg-2.1.0-cp36-none-any.whl size=828255076 sha256=741640572510ec67b250edd8de37e935d75c2c846a9d4c079a51c1bbb1c92d33\n",
            "  Stored in directory: /tmp/pip-ephem-wheel-cache-zphqksti/wheels/b4/d7/70/426d313a459f82ed5e06cc36a50e2bb2f0ec5cb31d8e0bdf09\n",
            "Successfully built en-core-web-lg\n",
            "Installing collected packages: en-core-web-lg\n",
            "Successfully installed en-core-web-lg-2.1.0\n",
            "\u001b[38;5;2m✔ Download and installation successful\u001b[0m\n",
            "You can now load the model via spacy.load('en_core_web_lg')\n"
          ],
          "name": "stdout"
        }
      ]
    },
    {
      "cell_type": "code",
      "metadata": {
        "id": "e_BJIFgey30A",
        "colab_type": "code",
        "colab": {}
      },
      "source": [
        "import en_core_web_lg\n",
        "nlp = en_core_web_lg.load() # load the Glove vectors for words\n"
      ],
      "execution_count": 0,
      "outputs": []
    },
    {
      "cell_type": "code",
      "metadata": {
        "id": "BPvMQ_zwEd4c",
        "colab_type": "code",
        "outputId": "9f6ca4d2-4726-413c-b045-73f601fb60c0",
        "colab": {
          "base_uri": "https://localhost:8080/",
          "height": 36
        }
      },
      "source": [
        "print(nlp.vocab.vectors_length) # It provides a three dimensional vector"
      ],
      "execution_count": 0,
      "outputs": [
        {
          "output_type": "stream",
          "text": [
            "300\n"
          ],
          "name": "stdout"
        }
      ]
    },
    {
      "cell_type": "markdown",
      "metadata": {
        "id": "l2SxkzH2wcdq",
        "colab_type": "text"
      },
      "source": [
        "#### Understanding the Glove Vectors"
      ]
    },
    {
      "cell_type": "code",
      "metadata": {
        "id": "yAQQFBPH2au5",
        "colab_type": "code",
        "outputId": "eab73298-1308-489f-d14e-64eef9d879c9",
        "colab": {
          "base_uri": "https://localhost:8080/",
          "height": 54
        }
      },
      "source": [
        "vec1 = nlp(\"foot\")\n",
        "vec2 = nlp(\"football\")\n",
        "vec3 = nlp(\"cricket\")\n",
        "\n",
        "print(vec1.similarity(vec2))\n",
        "print(vec2.similarity(vec3))"
      ],
      "execution_count": 0,
      "outputs": [
        {
          "output_type": "stream",
          "text": [
            "0.2559363414015776\n",
            "0.5254916173923929\n"
          ],
          "name": "stdout"
        }
      ]
    },
    {
      "cell_type": "markdown",
      "metadata": {
        "id": "8RvRIhI7KM-X",
        "colab_type": "text"
      },
      "source": [
        "#### Nearest Neighbor Classifier for Intent Classification"
      ]
    },
    {
      "cell_type": "code",
      "metadata": {
        "id": "U-O4FsOGLEjE",
        "colab_type": "code",
        "colab": {}
      },
      "source": [
        "import numpy as np\n",
        "# Create a training set\n",
        "# from the list of sample utterances\n",
        "X_train_shape = (len(sample),nlp.vocab.vectors_length)\n",
        "X_train = np.zeros(X_train_shape)\n",
        "for sentence in sample:\n",
        "    X_train[i,:] = nlp(sentence).vector"
      ],
      "execution_count": 0,
      "outputs": []
    },
    {
      "cell_type": "code",
      "metadata": {
        "id": "C835lG9ZKMFk",
        "colab_type": "code",
        "colab": {}
      },
      "source": [
        "from sklearn.metrics.pairwise import cosine_similarity\n",
        "# Sample test utterance for which intent has to be identified\n",
        "test_message = \"\"\"i would like to find a flight from charlotteto las vegas that makes a stop in st. louis\"\"\""
      ],
      "execution_count": 0,
      "outputs": []
    },
    {
      "cell_type": "code",
      "metadata": {
        "id": "CHW_XuS0KFTT",
        "colab_type": "code",
        "colab": {}
      },
      "source": [
        "# Obtain the Glove Vector for the test utterance\n",
        "test_x = nlp(test_message).vector\n",
        "# Reshape the vector to size 1*300\n",
        "test_x =test_x.reshape(1,300)"
      ],
      "execution_count": 0,
      "outputs": []
    },
    {
      "cell_type": "code",
      "metadata": {
        "id": "5-AjzWErGwf-",
        "colab_type": "code",
        "colab": {}
      },
      "source": [
        "#Compute Cosine similarity with respect to all the training samples\n",
        "scores = []\n",
        "for i in range(len(sample)):\n",
        "    y= X_train[i,:].reshape(1,300)\n",
        "    scores.append(cosine_similarity(y, test_x)[0])"
      ],
      "execution_count": 0,
      "outputs": []
    },
    {
      "cell_type": "code",
      "metadata": {
        "id": "nX6j8qBSK5mK",
        "colab_type": "code",
        "outputId": "3c311043-796d-4045-8960-82ff6eea8428",
        "colab": {
          "base_uri": "https://localhost:8080/",
          "height": 54
        }
      },
      "source": [
        "# Identify the sample with maximum similarity\n",
        "scores = np.array(scores)\n",
        "print(np.argmax(scores))\n",
        "\n",
        "# Identify the label associated with the sample\n",
        "print(labels[np.argmax(scores)])"
      ],
      "execution_count": 0,
      "outputs": [
        {
          "output_type": "stream",
          "text": [
            "0\n",
            "flight\n"
          ],
          "name": "stdout"
        }
      ]
    },
    {
      "cell_type": "markdown",
      "metadata": {
        "id": "G0FHUmr8L7k1",
        "colab_type": "text"
      },
      "source": [
        "#### Eager Classifier for Intent Classification"
      ]
    },
    {
      "cell_type": "code",
      "metadata": {
        "id": "1pXTOH45Lwai",
        "colab_type": "code",
        "outputId": "8ac09517-404c-43da-a0e0-3d1d0b1e0ae1",
        "colab": {
          "base_uri": "https://localhost:8080/",
          "height": 148
        }
      },
      "source": [
        "# Building one vs rest classifier for deriving non-linear model for identifying the best hyperplane \n",
        "# that can discriminate the vectors of various classes in an optimal way\n",
        "from sklearn.svm import SVC\n",
        "clf=SVC()\n",
        "clf.fit(X_train, labels)"
      ],
      "execution_count": 0,
      "outputs": [
        {
          "output_type": "stream",
          "text": [
            "/usr/local/lib/python3.6/dist-packages/sklearn/svm/base.py:193: FutureWarning: The default value of gamma will change from 'auto' to 'scale' in version 0.22 to account better for unscaled features. Set gamma explicitly to 'auto' or 'scale' to avoid this warning.\n",
            "  \"avoid this warning.\", FutureWarning)\n"
          ],
          "name": "stderr"
        },
        {
          "output_type": "execute_result",
          "data": {
            "text/plain": [
              "SVC(C=1.0, cache_size=200, class_weight=None, coef0=0.0,\n",
              "    decision_function_shape='ovr', degree=3, gamma='auto_deprecated',\n",
              "    kernel='rbf', max_iter=-1, probability=False, random_state=None,\n",
              "    shrinking=True, tol=0.001, verbose=False)"
            ]
          },
          "metadata": {
            "tags": []
          },
          "execution_count": 26
        }
      ]
    },
    {
      "cell_type": "code",
      "metadata": {
        "id": "pjnY5PZoMBHC",
        "colab_type": "code",
        "outputId": "17d41942-462a-4328-971f-c3f009d0555b",
        "colab": {
          "base_uri": "https://localhost:8080/",
          "height": 36
        }
      },
      "source": [
        "y_pred = clf.predict(test_x)\n",
        "print(y_pred)"
      ],
      "execution_count": 0,
      "outputs": [
        {
          "output_type": "stream",
          "text": [
            "['flight']\n"
          ],
          "name": "stdout"
        }
      ]
    },
    {
      "cell_type": "markdown",
      "metadata": {
        "id": "zNWgSYM5OI7t",
        "colab_type": "text"
      },
      "source": [
        "### Task 4: Identification of entities and extraction of roles"
      ]
    },
    {
      "cell_type": "code",
      "metadata": {
        "id": "RD7EyjYvOInB",
        "colab_type": "code",
        "outputId": "9cf9591b-f890-43b0-c6d0-00a2f1dd4fc4",
        "colab": {
          "base_uri": "https://localhost:8080/",
          "height": 54
        }
      },
      "source": [
        "doc = nlp('show me flights from India to Shanghai')\n",
        "# Named Entity Recognition uses contextual clues to identify \n",
        "for ent in doc.ents:\n",
        "  print(ent.text, ent.label_)\n",
        "# GPE stands for Geo political entity which includes countries, cities and states"
      ],
      "execution_count": 0,
      "outputs": [
        {
          "output_type": "stream",
          "text": [
            "India GPE\n",
            "Shanghai GPE\n"
          ],
          "name": "stdout"
        }
      ]
    },
    {
      "cell_type": "code",
      "metadata": {
        "id": "HNnF0IUKwqmR",
        "colab_type": "code",
        "outputId": "e54370a9-2bab-43a5-a9d1-bd557fdabef3",
        "colab": {
          "base_uri": "https://localhost:8080/",
          "height": 292
        }
      },
      "source": [
        "# Visualizing Dependency Parsing\n",
        "\n",
        "from spacy import displacy\n",
        "displacy.render(doc, style='dep', jupyter=True, options={'distance': 90})"
      ],
      "execution_count": 0,
      "outputs": [
        {
          "output_type": "display_data",
          "data": {
            "text/html": [
              "<svg xmlns=\"http://www.w3.org/2000/svg\" xmlns:xlink=\"http://www.w3.org/1999/xlink\" xml:lang=\"en\" id=\"b0770a39d1ec4691809de60950a6aef1-0\" class=\"displacy\" width=\"680\" height=\"272.0\" direction=\"ltr\" style=\"max-width: none; height: 272.0px; color: #000000; background: #ffffff; font-family: Arial; direction: ltr\">\n",
              "<text class=\"displacy-token\" fill=\"currentColor\" text-anchor=\"middle\" y=\"182.0\">\n",
              "    <tspan class=\"displacy-word\" fill=\"currentColor\" x=\"50\">show</tspan>\n",
              "    <tspan class=\"displacy-tag\" dy=\"2em\" fill=\"currentColor\" x=\"50\">VERB</tspan>\n",
              "</text>\n",
              "\n",
              "<text class=\"displacy-token\" fill=\"currentColor\" text-anchor=\"middle\" y=\"182.0\">\n",
              "    <tspan class=\"displacy-word\" fill=\"currentColor\" x=\"140\">me</tspan>\n",
              "    <tspan class=\"displacy-tag\" dy=\"2em\" fill=\"currentColor\" x=\"140\">PRON</tspan>\n",
              "</text>\n",
              "\n",
              "<text class=\"displacy-token\" fill=\"currentColor\" text-anchor=\"middle\" y=\"182.0\">\n",
              "    <tspan class=\"displacy-word\" fill=\"currentColor\" x=\"230\">flights</tspan>\n",
              "    <tspan class=\"displacy-tag\" dy=\"2em\" fill=\"currentColor\" x=\"230\">NOUN</tspan>\n",
              "</text>\n",
              "\n",
              "<text class=\"displacy-token\" fill=\"currentColor\" text-anchor=\"middle\" y=\"182.0\">\n",
              "    <tspan class=\"displacy-word\" fill=\"currentColor\" x=\"320\">from</tspan>\n",
              "    <tspan class=\"displacy-tag\" dy=\"2em\" fill=\"currentColor\" x=\"320\">ADP</tspan>\n",
              "</text>\n",
              "\n",
              "<text class=\"displacy-token\" fill=\"currentColor\" text-anchor=\"middle\" y=\"182.0\">\n",
              "    <tspan class=\"displacy-word\" fill=\"currentColor\" x=\"410\">India</tspan>\n",
              "    <tspan class=\"displacy-tag\" dy=\"2em\" fill=\"currentColor\" x=\"410\">PROPN</tspan>\n",
              "</text>\n",
              "\n",
              "<text class=\"displacy-token\" fill=\"currentColor\" text-anchor=\"middle\" y=\"182.0\">\n",
              "    <tspan class=\"displacy-word\" fill=\"currentColor\" x=\"500\">to</tspan>\n",
              "    <tspan class=\"displacy-tag\" dy=\"2em\" fill=\"currentColor\" x=\"500\">ADP</tspan>\n",
              "</text>\n",
              "\n",
              "<text class=\"displacy-token\" fill=\"currentColor\" text-anchor=\"middle\" y=\"182.0\">\n",
              "    <tspan class=\"displacy-word\" fill=\"currentColor\" x=\"590\">Shanghai</tspan>\n",
              "    <tspan class=\"displacy-tag\" dy=\"2em\" fill=\"currentColor\" x=\"590\">PROPN</tspan>\n",
              "</text>\n",
              "\n",
              "<g class=\"displacy-arrow\">\n",
              "    <path class=\"displacy-arc\" id=\"arrow-b0770a39d1ec4691809de60950a6aef1-0-0\" stroke-width=\"2px\" d=\"M70,137.0 C70,92.0 130.0,92.0 130.0,137.0\" fill=\"none\" stroke=\"currentColor\"/>\n",
              "    <text dy=\"1.25em\" style=\"font-size: 0.8em; letter-spacing: 1px\">\n",
              "        <textPath xlink:href=\"#arrow-b0770a39d1ec4691809de60950a6aef1-0-0\" class=\"displacy-label\" startOffset=\"50%\" side=\"left\" fill=\"currentColor\" text-anchor=\"middle\">dative</textPath>\n",
              "    </text>\n",
              "    <path class=\"displacy-arrowhead\" d=\"M130.0,139.0 L138.0,127.0 122.0,127.0\" fill=\"currentColor\"/>\n",
              "</g>\n",
              "\n",
              "<g class=\"displacy-arrow\">\n",
              "    <path class=\"displacy-arc\" id=\"arrow-b0770a39d1ec4691809de60950a6aef1-0-1\" stroke-width=\"2px\" d=\"M70,137.0 C70,47.0 225.0,47.0 225.0,137.0\" fill=\"none\" stroke=\"currentColor\"/>\n",
              "    <text dy=\"1.25em\" style=\"font-size: 0.8em; letter-spacing: 1px\">\n",
              "        <textPath xlink:href=\"#arrow-b0770a39d1ec4691809de60950a6aef1-0-1\" class=\"displacy-label\" startOffset=\"50%\" side=\"left\" fill=\"currentColor\" text-anchor=\"middle\">dobj</textPath>\n",
              "    </text>\n",
              "    <path class=\"displacy-arrowhead\" d=\"M225.0,139.0 L233.0,127.0 217.0,127.0\" fill=\"currentColor\"/>\n",
              "</g>\n",
              "\n",
              "<g class=\"displacy-arrow\">\n",
              "    <path class=\"displacy-arc\" id=\"arrow-b0770a39d1ec4691809de60950a6aef1-0-2\" stroke-width=\"2px\" d=\"M250,137.0 C250,92.0 310.0,92.0 310.0,137.0\" fill=\"none\" stroke=\"currentColor\"/>\n",
              "    <text dy=\"1.25em\" style=\"font-size: 0.8em; letter-spacing: 1px\">\n",
              "        <textPath xlink:href=\"#arrow-b0770a39d1ec4691809de60950a6aef1-0-2\" class=\"displacy-label\" startOffset=\"50%\" side=\"left\" fill=\"currentColor\" text-anchor=\"middle\">prep</textPath>\n",
              "    </text>\n",
              "    <path class=\"displacy-arrowhead\" d=\"M310.0,139.0 L318.0,127.0 302.0,127.0\" fill=\"currentColor\"/>\n",
              "</g>\n",
              "\n",
              "<g class=\"displacy-arrow\">\n",
              "    <path class=\"displacy-arc\" id=\"arrow-b0770a39d1ec4691809de60950a6aef1-0-3\" stroke-width=\"2px\" d=\"M340,137.0 C340,92.0 400.0,92.0 400.0,137.0\" fill=\"none\" stroke=\"currentColor\"/>\n",
              "    <text dy=\"1.25em\" style=\"font-size: 0.8em; letter-spacing: 1px\">\n",
              "        <textPath xlink:href=\"#arrow-b0770a39d1ec4691809de60950a6aef1-0-3\" class=\"displacy-label\" startOffset=\"50%\" side=\"left\" fill=\"currentColor\" text-anchor=\"middle\">pobj</textPath>\n",
              "    </text>\n",
              "    <path class=\"displacy-arrowhead\" d=\"M400.0,139.0 L408.0,127.0 392.0,127.0\" fill=\"currentColor\"/>\n",
              "</g>\n",
              "\n",
              "<g class=\"displacy-arrow\">\n",
              "    <path class=\"displacy-arc\" id=\"arrow-b0770a39d1ec4691809de60950a6aef1-0-4\" stroke-width=\"2px\" d=\"M250,137.0 C250,2.0 500.0,2.0 500.0,137.0\" fill=\"none\" stroke=\"currentColor\"/>\n",
              "    <text dy=\"1.25em\" style=\"font-size: 0.8em; letter-spacing: 1px\">\n",
              "        <textPath xlink:href=\"#arrow-b0770a39d1ec4691809de60950a6aef1-0-4\" class=\"displacy-label\" startOffset=\"50%\" side=\"left\" fill=\"currentColor\" text-anchor=\"middle\">prep</textPath>\n",
              "    </text>\n",
              "    <path class=\"displacy-arrowhead\" d=\"M500.0,139.0 L508.0,127.0 492.0,127.0\" fill=\"currentColor\"/>\n",
              "</g>\n",
              "\n",
              "<g class=\"displacy-arrow\">\n",
              "    <path class=\"displacy-arc\" id=\"arrow-b0770a39d1ec4691809de60950a6aef1-0-5\" stroke-width=\"2px\" d=\"M520,137.0 C520,92.0 580.0,92.0 580.0,137.0\" fill=\"none\" stroke=\"currentColor\"/>\n",
              "    <text dy=\"1.25em\" style=\"font-size: 0.8em; letter-spacing: 1px\">\n",
              "        <textPath xlink:href=\"#arrow-b0770a39d1ec4691809de60950a6aef1-0-5\" class=\"displacy-label\" startOffset=\"50%\" side=\"left\" fill=\"currentColor\" text-anchor=\"middle\">pobj</textPath>\n",
              "    </text>\n",
              "    <path class=\"displacy-arrowhead\" d=\"M580.0,139.0 L588.0,127.0 572.0,127.0\" fill=\"currentColor\"/>\n",
              "</g>\n",
              "</svg>"
            ],
            "text/plain": [
              "<IPython.core.display.HTML object>"
            ]
          },
          "metadata": {
            "tags": []
          }
        }
      ]
    }
  ]
}